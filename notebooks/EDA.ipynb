{
 "cells": [
  {
   "cell_type": "markdown",
   "metadata": {},
   "source": [
    "## EDA"
   ]
  },
  {
   "cell_type": "code",
   "execution_count": 1,
   "metadata": {},
   "outputs": [],
   "source": [
    "import pandas as pd\n",
    "import numpy as np\n",
    "from sklearn.preprocessing import LabelEncoder\n",
    "from datetime import datetime\n",
    "import geopy\n",
    "from sklearn.ensemble import RandomForestClassifier\n",
    "\n",
    "%matplotlib inline"
   ]
  },
  {
   "cell_type": "markdown",
   "metadata": {},
   "source": [
    "## Loading Data"
   ]
  },
  {
   "cell_type": "code",
   "execution_count": 2,
   "metadata": {
    "scrolled": true
   },
   "outputs": [],
   "source": [
    "train = pd.read_csv('../../assets/train.csv')\n",
    "test = pd.read_csv('../../assets/test.csv')\n",
    "spray = pd.read_csv('../../assets/spray.csv')\n",
    "weather = pd.read_csv('../../assets/weather.csv')"
   ]
  },
  {
   "cell_type": "markdown",
   "metadata": {},
   "source": [
    "## Combine Train and Test to Ensure Column Order"
   ]
  },
  {
   "cell_type": "code",
   "execution_count": 3,
   "metadata": {
    "scrolled": true
   },
   "outputs": [
    {
     "data": {
      "text/html": [
       "<div>\n",
       "<style scoped>\n",
       "    .dataframe tbody tr th:only-of-type {\n",
       "        vertical-align: middle;\n",
       "    }\n",
       "\n",
       "    .dataframe tbody tr th {\n",
       "        vertical-align: top;\n",
       "    }\n",
       "\n",
       "    .dataframe thead th {\n",
       "        text-align: right;\n",
       "    }\n",
       "</style>\n",
       "<table border=\"1\" class=\"dataframe\">\n",
       "  <thead>\n",
       "    <tr style=\"text-align: right;\">\n",
       "      <th></th>\n",
       "      <th>Date</th>\n",
       "      <th>Address</th>\n",
       "      <th>Species</th>\n",
       "      <th>Block</th>\n",
       "      <th>Street</th>\n",
       "      <th>Trap</th>\n",
       "      <th>AddressNumberAndStreet</th>\n",
       "      <th>Latitude</th>\n",
       "      <th>Longitude</th>\n",
       "      <th>AddressAccuracy</th>\n",
       "      <th>NumMosquitos</th>\n",
       "      <th>WnvPresent</th>\n",
       "      <th>Id</th>\n",
       "    </tr>\n",
       "  </thead>\n",
       "  <tbody>\n",
       "    <tr>\n",
       "      <th>0</th>\n",
       "      <td>2007-05-29</td>\n",
       "      <td>4100 North Oak Park Avenue, Chicago, IL 60634,...</td>\n",
       "      <td>CULEX PIPIENS/RESTUANS</td>\n",
       "      <td>41</td>\n",
       "      <td>N OAK PARK AVE</td>\n",
       "      <td>T002</td>\n",
       "      <td>4100  N OAK PARK AVE, Chicago, IL</td>\n",
       "      <td>41.954690</td>\n",
       "      <td>-87.800991</td>\n",
       "      <td>9</td>\n",
       "      <td>1.0</td>\n",
       "      <td>0.0</td>\n",
       "      <td>NaN</td>\n",
       "    </tr>\n",
       "    <tr>\n",
       "      <th>1</th>\n",
       "      <td>2007-05-29</td>\n",
       "      <td>4100 North Oak Park Avenue, Chicago, IL 60634,...</td>\n",
       "      <td>CULEX RESTUANS</td>\n",
       "      <td>41</td>\n",
       "      <td>N OAK PARK AVE</td>\n",
       "      <td>T002</td>\n",
       "      <td>4100  N OAK PARK AVE, Chicago, IL</td>\n",
       "      <td>41.954690</td>\n",
       "      <td>-87.800991</td>\n",
       "      <td>9</td>\n",
       "      <td>1.0</td>\n",
       "      <td>0.0</td>\n",
       "      <td>NaN</td>\n",
       "    </tr>\n",
       "    <tr>\n",
       "      <th>2</th>\n",
       "      <td>2007-05-29</td>\n",
       "      <td>6200 North Mandell Avenue, Chicago, IL 60646, USA</td>\n",
       "      <td>CULEX RESTUANS</td>\n",
       "      <td>62</td>\n",
       "      <td>N MANDELL AVE</td>\n",
       "      <td>T007</td>\n",
       "      <td>6200  N MANDELL AVE, Chicago, IL</td>\n",
       "      <td>41.994991</td>\n",
       "      <td>-87.769279</td>\n",
       "      <td>9</td>\n",
       "      <td>1.0</td>\n",
       "      <td>0.0</td>\n",
       "      <td>NaN</td>\n",
       "    </tr>\n",
       "    <tr>\n",
       "      <th>3</th>\n",
       "      <td>2007-05-29</td>\n",
       "      <td>7900 West Foster Avenue, Chicago, IL 60656, USA</td>\n",
       "      <td>CULEX PIPIENS/RESTUANS</td>\n",
       "      <td>79</td>\n",
       "      <td>W FOSTER AVE</td>\n",
       "      <td>T015</td>\n",
       "      <td>7900  W FOSTER AVE, Chicago, IL</td>\n",
       "      <td>41.974089</td>\n",
       "      <td>-87.824812</td>\n",
       "      <td>8</td>\n",
       "      <td>1.0</td>\n",
       "      <td>0.0</td>\n",
       "      <td>NaN</td>\n",
       "    </tr>\n",
       "    <tr>\n",
       "      <th>4</th>\n",
       "      <td>2007-05-29</td>\n",
       "      <td>7900 West Foster Avenue, Chicago, IL 60656, USA</td>\n",
       "      <td>CULEX RESTUANS</td>\n",
       "      <td>79</td>\n",
       "      <td>W FOSTER AVE</td>\n",
       "      <td>T015</td>\n",
       "      <td>7900  W FOSTER AVE, Chicago, IL</td>\n",
       "      <td>41.974089</td>\n",
       "      <td>-87.824812</td>\n",
       "      <td>8</td>\n",
       "      <td>4.0</td>\n",
       "      <td>0.0</td>\n",
       "      <td>NaN</td>\n",
       "    </tr>\n",
       "  </tbody>\n",
       "</table>\n",
       "</div>"
      ],
      "text/plain": [
       "         Date                                            Address  \\\n",
       "0  2007-05-29  4100 North Oak Park Avenue, Chicago, IL 60634,...   \n",
       "1  2007-05-29  4100 North Oak Park Avenue, Chicago, IL 60634,...   \n",
       "2  2007-05-29  6200 North Mandell Avenue, Chicago, IL 60646, USA   \n",
       "3  2007-05-29    7900 West Foster Avenue, Chicago, IL 60656, USA   \n",
       "4  2007-05-29    7900 West Foster Avenue, Chicago, IL 60656, USA   \n",
       "\n",
       "                  Species  Block           Street  Trap  \\\n",
       "0  CULEX PIPIENS/RESTUANS     41   N OAK PARK AVE  T002   \n",
       "1          CULEX RESTUANS     41   N OAK PARK AVE  T002   \n",
       "2          CULEX RESTUANS     62    N MANDELL AVE  T007   \n",
       "3  CULEX PIPIENS/RESTUANS     79     W FOSTER AVE  T015   \n",
       "4          CULEX RESTUANS     79     W FOSTER AVE  T015   \n",
       "\n",
       "              AddressNumberAndStreet   Latitude  Longitude  AddressAccuracy  \\\n",
       "0  4100  N OAK PARK AVE, Chicago, IL  41.954690 -87.800991                9   \n",
       "1  4100  N OAK PARK AVE, Chicago, IL  41.954690 -87.800991                9   \n",
       "2   6200  N MANDELL AVE, Chicago, IL  41.994991 -87.769279                9   \n",
       "3    7900  W FOSTER AVE, Chicago, IL  41.974089 -87.824812                8   \n",
       "4    7900  W FOSTER AVE, Chicago, IL  41.974089 -87.824812                8   \n",
       "\n",
       "   NumMosquitos  WnvPresent  Id  \n",
       "0           1.0         0.0 NaN  \n",
       "1           1.0         0.0 NaN  \n",
       "2           1.0         0.0 NaN  \n",
       "3           1.0         0.0 NaN  \n",
       "4           4.0         0.0 NaN  "
      ]
     },
     "execution_count": 3,
     "metadata": {},
     "output_type": "execute_result"
    }
   ],
   "source": [
    "all_data = pd.concat([train, test], sort=False)\n",
    "all_data.head()"
   ]
  },
  {
   "cell_type": "markdown",
   "metadata": {},
   "source": [
    "## Looking for Missing Data"
   ]
  },
  {
   "cell_type": "code",
   "execution_count": 4,
   "metadata": {
    "scrolled": true
   },
   "outputs": [
    {
     "name": "stdout",
     "output_type": "stream",
     "text": [
      "<class 'pandas.core.frame.DataFrame'>\n",
      "RangeIndex: 2944 entries, 0 to 2943\n",
      "Data columns (total 22 columns):\n",
      "Station        2944 non-null int64\n",
      "Date           2944 non-null object\n",
      "Tmax           2944 non-null int64\n",
      "Tmin           2944 non-null int64\n",
      "Tavg           2944 non-null object\n",
      "Depart         2944 non-null object\n",
      "DewPoint       2944 non-null int64\n",
      "WetBulb        2944 non-null object\n",
      "Heat           2944 non-null object\n",
      "Cool           2944 non-null object\n",
      "Sunrise        2944 non-null object\n",
      "Sunset         2944 non-null object\n",
      "CodeSum        2944 non-null object\n",
      "Depth          2944 non-null object\n",
      "Water1         2944 non-null object\n",
      "SnowFall       2944 non-null object\n",
      "PrecipTotal    2944 non-null object\n",
      "StnPressure    2944 non-null object\n",
      "SeaLevel       2944 non-null object\n",
      "ResultSpeed    2944 non-null float64\n",
      "ResultDir      2944 non-null int64\n",
      "AvgSpeed       2944 non-null object\n",
      "dtypes: float64(1), int64(5), object(16)\n",
      "memory usage: 506.1+ KB\n"
     ]
    }
   ],
   "source": [
    "weather.info()"
   ]
  },
  {
   "cell_type": "markdown",
   "metadata": {},
   "source": [
    "**Missing values appear to have already been filled with 'M'.**  \n",
    "We're going to use `value_counts()` to look at individual columns to determine whether or not they contain useful information."
   ]
  },
  {
   "cell_type": "code",
   "execution_count": 5,
   "metadata": {},
   "outputs": [
    {
     "data": {
      "text/plain": [
       "M      1472\n",
       "0.0    1459\n",
       "  T      12\n",
       "0.1       1\n",
       "Name: SnowFall, dtype: int64"
      ]
     },
     "execution_count": 5,
     "metadata": {},
     "output_type": "execute_result"
    }
   ],
   "source": [
    "weather['SnowFall'].value_counts()"
   ]
  },
  {
   "cell_type": "code",
   "execution_count": 6,
   "metadata": {},
   "outputs": [
    {
     "data": {
      "text/plain": [
       "M    2944\n",
       "Name: Water1, dtype: int64"
      ]
     },
     "execution_count": 6,
     "metadata": {},
     "output_type": "execute_result"
    }
   ],
   "source": [
    "weather['Water1'].value_counts()"
   ]
  },
  {
   "cell_type": "code",
   "execution_count": 7,
   "metadata": {},
   "outputs": [
    {
     "data": {
      "text/plain": [
       "0    1472\n",
       "M    1472\n",
       "Name: Depth, dtype: int64"
      ]
     },
     "execution_count": 7,
     "metadata": {},
     "output_type": "execute_result"
    }
   ],
   "source": [
    "weather['Depth'].value_counts()"
   ]
  },
  {
   "cell_type": "markdown",
   "metadata": {},
   "source": [
    "**Drop columns that don't contain useful information.**"
   ]
  },
  {
   "cell_type": "code",
   "execution_count": 8,
   "metadata": {},
   "outputs": [],
   "source": [
    "useless_features = ['CodeSum', 'SnowFall', 'Water1', 'Depth'] \n",
    "weather.drop(labels=useless_features, axis=1, inplace=True)"
   ]
  },
  {
   "cell_type": "code",
   "execution_count": 9,
   "metadata": {},
   "outputs": [],
   "source": [
    "weather = weather.replace('M', 0.0)\n",
    "weather = weather.replace('T', 0.005)\n",
    "weather = weather.replace(' T', 0.005)\n",
    "weather = weather.replace('  T', 0.005)"
   ]
  },
  {
   "cell_type": "markdown",
   "metadata": {},
   "source": [
    "## Fixing dtypes for Weather"
   ]
  },
  {
   "cell_type": "code",
   "execution_count": 10,
   "metadata": {
    "scrolled": true
   },
   "outputs": [],
   "source": [
    "weather['Tavg'] = weather['Tavg'].astype('int64')\n",
    "weather['Depart'] = weather['Depart'].astype('int64')\n",
    "weather['WetBulb'] = weather['WetBulb'].astype('int64')\n",
    "weather['Heat'] = weather['Heat'].astype('int64')\n",
    "weather['Cool'] = weather['Cool'].astype('int64')\n",
    "weather['PrecipTotal'] = weather['PrecipTotal'].astype('float64')\n",
    "weather['StnPressure'] = weather['StnPressure'].astype('float64')\n",
    "weather['SeaLevel'] = weather['SeaLevel'].astype('float64')\n",
    "weather['ResultSpeed'] = weather['ResultSpeed'].astype('float64')\n",
    "weather['AvgSpeed'] = weather['AvgSpeed'].astype('float64')"
   ]
  },
  {
   "cell_type": "code",
   "execution_count": 11,
   "metadata": {},
   "outputs": [
    {
     "name": "stderr",
     "output_type": "stream",
     "text": [
      "/Applications/anaconda3/lib/python3.6/site-packages/pandas/core/frame.py:3697: SettingWithCopyWarning: \n",
      "A value is trying to be set on a copy of a slice from a DataFrame\n",
      "\n",
      "See the caveats in the documentation: http://pandas.pydata.org/pandas-docs/stable/indexing.html#indexing-view-versus-copy\n",
      "  errors=errors)\n"
     ]
    }
   ],
   "source": [
    "station_1_mask = weather['Station'] == 1\n",
    "station_1 = weather[station_1_mask]\n",
    "station_1.drop('Station', axis=1, inplace=True)"
   ]
  },
  {
   "cell_type": "code",
   "execution_count": 12,
   "metadata": {},
   "outputs": [
    {
     "data": {
      "text/html": [
       "<div>\n",
       "<style scoped>\n",
       "    .dataframe tbody tr th:only-of-type {\n",
       "        vertical-align: middle;\n",
       "    }\n",
       "\n",
       "    .dataframe tbody tr th {\n",
       "        vertical-align: top;\n",
       "    }\n",
       "\n",
       "    .dataframe thead th {\n",
       "        text-align: right;\n",
       "    }\n",
       "</style>\n",
       "<table border=\"1\" class=\"dataframe\">\n",
       "  <thead>\n",
       "    <tr style=\"text-align: right;\">\n",
       "      <th></th>\n",
       "      <th>Date</th>\n",
       "      <th>Tmax</th>\n",
       "      <th>Tmin</th>\n",
       "      <th>Tavg</th>\n",
       "      <th>Depart</th>\n",
       "      <th>DewPoint</th>\n",
       "      <th>WetBulb</th>\n",
       "      <th>Heat</th>\n",
       "      <th>Cool</th>\n",
       "      <th>Sunrise</th>\n",
       "      <th>Sunset</th>\n",
       "      <th>PrecipTotal</th>\n",
       "      <th>StnPressure</th>\n",
       "      <th>SeaLevel</th>\n",
       "      <th>ResultSpeed</th>\n",
       "      <th>ResultDir</th>\n",
       "      <th>AvgSpeed</th>\n",
       "    </tr>\n",
       "  </thead>\n",
       "  <tbody>\n",
       "    <tr>\n",
       "      <th>0</th>\n",
       "      <td>2007-05-01</td>\n",
       "      <td>83</td>\n",
       "      <td>50</td>\n",
       "      <td>67</td>\n",
       "      <td>14</td>\n",
       "      <td>51</td>\n",
       "      <td>56</td>\n",
       "      <td>0</td>\n",
       "      <td>2</td>\n",
       "      <td>0448</td>\n",
       "      <td>1849</td>\n",
       "      <td>0.000</td>\n",
       "      <td>29.10</td>\n",
       "      <td>29.82</td>\n",
       "      <td>1.7</td>\n",
       "      <td>27</td>\n",
       "      <td>9.2</td>\n",
       "    </tr>\n",
       "    <tr>\n",
       "      <th>2</th>\n",
       "      <td>2007-05-02</td>\n",
       "      <td>59</td>\n",
       "      <td>42</td>\n",
       "      <td>51</td>\n",
       "      <td>-3</td>\n",
       "      <td>42</td>\n",
       "      <td>47</td>\n",
       "      <td>14</td>\n",
       "      <td>0</td>\n",
       "      <td>0447</td>\n",
       "      <td>1850</td>\n",
       "      <td>0.000</td>\n",
       "      <td>29.38</td>\n",
       "      <td>30.09</td>\n",
       "      <td>13.0</td>\n",
       "      <td>4</td>\n",
       "      <td>13.4</td>\n",
       "    </tr>\n",
       "    <tr>\n",
       "      <th>4</th>\n",
       "      <td>2007-05-03</td>\n",
       "      <td>66</td>\n",
       "      <td>46</td>\n",
       "      <td>56</td>\n",
       "      <td>2</td>\n",
       "      <td>40</td>\n",
       "      <td>48</td>\n",
       "      <td>9</td>\n",
       "      <td>0</td>\n",
       "      <td>0446</td>\n",
       "      <td>1851</td>\n",
       "      <td>0.000</td>\n",
       "      <td>29.39</td>\n",
       "      <td>30.12</td>\n",
       "      <td>11.7</td>\n",
       "      <td>7</td>\n",
       "      <td>11.9</td>\n",
       "    </tr>\n",
       "    <tr>\n",
       "      <th>6</th>\n",
       "      <td>2007-05-04</td>\n",
       "      <td>66</td>\n",
       "      <td>49</td>\n",
       "      <td>58</td>\n",
       "      <td>4</td>\n",
       "      <td>41</td>\n",
       "      <td>50</td>\n",
       "      <td>7</td>\n",
       "      <td>0</td>\n",
       "      <td>0444</td>\n",
       "      <td>1852</td>\n",
       "      <td>0.005</td>\n",
       "      <td>29.31</td>\n",
       "      <td>30.05</td>\n",
       "      <td>10.4</td>\n",
       "      <td>8</td>\n",
       "      <td>10.8</td>\n",
       "    </tr>\n",
       "    <tr>\n",
       "      <th>8</th>\n",
       "      <td>2007-05-05</td>\n",
       "      <td>66</td>\n",
       "      <td>53</td>\n",
       "      <td>60</td>\n",
       "      <td>5</td>\n",
       "      <td>38</td>\n",
       "      <td>49</td>\n",
       "      <td>5</td>\n",
       "      <td>0</td>\n",
       "      <td>0443</td>\n",
       "      <td>1853</td>\n",
       "      <td>0.005</td>\n",
       "      <td>29.40</td>\n",
       "      <td>30.10</td>\n",
       "      <td>11.7</td>\n",
       "      <td>7</td>\n",
       "      <td>12.0</td>\n",
       "    </tr>\n",
       "  </tbody>\n",
       "</table>\n",
       "</div>"
      ],
      "text/plain": [
       "         Date  Tmax  Tmin  Tavg  Depart  DewPoint  WetBulb  Heat  Cool  \\\n",
       "0  2007-05-01    83    50    67      14        51       56     0     2   \n",
       "2  2007-05-02    59    42    51      -3        42       47    14     0   \n",
       "4  2007-05-03    66    46    56       2        40       48     9     0   \n",
       "6  2007-05-04    66    49    58       4        41       50     7     0   \n",
       "8  2007-05-05    66    53    60       5        38       49     5     0   \n",
       "\n",
       "  Sunrise Sunset  PrecipTotal  StnPressure  SeaLevel  ResultSpeed  ResultDir  \\\n",
       "0    0448   1849        0.000        29.10     29.82          1.7         27   \n",
       "2    0447   1850        0.000        29.38     30.09         13.0          4   \n",
       "4    0446   1851        0.000        29.39     30.12         11.7          7   \n",
       "6    0444   1852        0.005        29.31     30.05         10.4          8   \n",
       "8    0443   1853        0.005        29.40     30.10         11.7          7   \n",
       "\n",
       "   AvgSpeed  \n",
       "0       9.2  \n",
       "2      13.4  \n",
       "4      11.9  \n",
       "6      10.8  \n",
       "8      12.0  "
      ]
     },
     "execution_count": 12,
     "metadata": {},
     "output_type": "execute_result"
    }
   ],
   "source": [
    "station_1.head()"
   ]
  },
  {
   "cell_type": "code",
   "execution_count": 13,
   "metadata": {},
   "outputs": [
    {
     "name": "stderr",
     "output_type": "stream",
     "text": [
      "/Applications/anaconda3/lib/python3.6/site-packages/pandas/core/frame.py:3697: SettingWithCopyWarning: \n",
      "A value is trying to be set on a copy of a slice from a DataFrame\n",
      "\n",
      "See the caveats in the documentation: http://pandas.pydata.org/pandas-docs/stable/indexing.html#indexing-view-versus-copy\n",
      "  errors=errors)\n"
     ]
    }
   ],
   "source": [
    "station_2_mask = weather['Station'] == 2\n",
    "station_2 = weather[station_2_mask]\n",
    "station_2.drop('Station', axis=1, inplace=True)"
   ]
  },
  {
   "cell_type": "code",
   "execution_count": 14,
   "metadata": {},
   "outputs": [
    {
     "data": {
      "text/html": [
       "<div>\n",
       "<style scoped>\n",
       "    .dataframe tbody tr th:only-of-type {\n",
       "        vertical-align: middle;\n",
       "    }\n",
       "\n",
       "    .dataframe tbody tr th {\n",
       "        vertical-align: top;\n",
       "    }\n",
       "\n",
       "    .dataframe thead th {\n",
       "        text-align: right;\n",
       "    }\n",
       "</style>\n",
       "<table border=\"1\" class=\"dataframe\">\n",
       "  <thead>\n",
       "    <tr style=\"text-align: right;\">\n",
       "      <th></th>\n",
       "      <th>Date</th>\n",
       "      <th>Tmax</th>\n",
       "      <th>Tmin</th>\n",
       "      <th>Tavg</th>\n",
       "      <th>Depart</th>\n",
       "      <th>DewPoint</th>\n",
       "      <th>WetBulb</th>\n",
       "      <th>Heat</th>\n",
       "      <th>Cool</th>\n",
       "      <th>Sunrise</th>\n",
       "      <th>Sunset</th>\n",
       "      <th>PrecipTotal</th>\n",
       "      <th>StnPressure</th>\n",
       "      <th>SeaLevel</th>\n",
       "      <th>ResultSpeed</th>\n",
       "      <th>ResultDir</th>\n",
       "      <th>AvgSpeed</th>\n",
       "    </tr>\n",
       "  </thead>\n",
       "  <tbody>\n",
       "    <tr>\n",
       "      <th>1</th>\n",
       "      <td>2007-05-01</td>\n",
       "      <td>84</td>\n",
       "      <td>52</td>\n",
       "      <td>68</td>\n",
       "      <td>0</td>\n",
       "      <td>51</td>\n",
       "      <td>57</td>\n",
       "      <td>0</td>\n",
       "      <td>3</td>\n",
       "      <td>-</td>\n",
       "      <td>-</td>\n",
       "      <td>0.000</td>\n",
       "      <td>29.18</td>\n",
       "      <td>29.82</td>\n",
       "      <td>2.7</td>\n",
       "      <td>25</td>\n",
       "      <td>9.6</td>\n",
       "    </tr>\n",
       "    <tr>\n",
       "      <th>3</th>\n",
       "      <td>2007-05-02</td>\n",
       "      <td>60</td>\n",
       "      <td>43</td>\n",
       "      <td>52</td>\n",
       "      <td>0</td>\n",
       "      <td>42</td>\n",
       "      <td>47</td>\n",
       "      <td>13</td>\n",
       "      <td>0</td>\n",
       "      <td>-</td>\n",
       "      <td>-</td>\n",
       "      <td>0.000</td>\n",
       "      <td>29.44</td>\n",
       "      <td>30.08</td>\n",
       "      <td>13.3</td>\n",
       "      <td>2</td>\n",
       "      <td>13.4</td>\n",
       "    </tr>\n",
       "    <tr>\n",
       "      <th>5</th>\n",
       "      <td>2007-05-03</td>\n",
       "      <td>67</td>\n",
       "      <td>48</td>\n",
       "      <td>58</td>\n",
       "      <td>0</td>\n",
       "      <td>40</td>\n",
       "      <td>50</td>\n",
       "      <td>7</td>\n",
       "      <td>0</td>\n",
       "      <td>-</td>\n",
       "      <td>-</td>\n",
       "      <td>0.000</td>\n",
       "      <td>29.46</td>\n",
       "      <td>30.12</td>\n",
       "      <td>12.9</td>\n",
       "      <td>6</td>\n",
       "      <td>13.2</td>\n",
       "    </tr>\n",
       "    <tr>\n",
       "      <th>7</th>\n",
       "      <td>2007-05-04</td>\n",
       "      <td>78</td>\n",
       "      <td>51</td>\n",
       "      <td>0</td>\n",
       "      <td>0</td>\n",
       "      <td>42</td>\n",
       "      <td>50</td>\n",
       "      <td>0</td>\n",
       "      <td>0</td>\n",
       "      <td>-</td>\n",
       "      <td>-</td>\n",
       "      <td>0.000</td>\n",
       "      <td>29.36</td>\n",
       "      <td>30.04</td>\n",
       "      <td>10.1</td>\n",
       "      <td>7</td>\n",
       "      <td>10.4</td>\n",
       "    </tr>\n",
       "    <tr>\n",
       "      <th>9</th>\n",
       "      <td>2007-05-05</td>\n",
       "      <td>66</td>\n",
       "      <td>54</td>\n",
       "      <td>60</td>\n",
       "      <td>0</td>\n",
       "      <td>39</td>\n",
       "      <td>50</td>\n",
       "      <td>5</td>\n",
       "      <td>0</td>\n",
       "      <td>-</td>\n",
       "      <td>-</td>\n",
       "      <td>0.005</td>\n",
       "      <td>29.46</td>\n",
       "      <td>30.09</td>\n",
       "      <td>11.2</td>\n",
       "      <td>7</td>\n",
       "      <td>11.5</td>\n",
       "    </tr>\n",
       "  </tbody>\n",
       "</table>\n",
       "</div>"
      ],
      "text/plain": [
       "         Date  Tmax  Tmin  Tavg  Depart  DewPoint  WetBulb  Heat  Cool  \\\n",
       "1  2007-05-01    84    52    68       0        51       57     0     3   \n",
       "3  2007-05-02    60    43    52       0        42       47    13     0   \n",
       "5  2007-05-03    67    48    58       0        40       50     7     0   \n",
       "7  2007-05-04    78    51     0       0        42       50     0     0   \n",
       "9  2007-05-05    66    54    60       0        39       50     5     0   \n",
       "\n",
       "  Sunrise Sunset  PrecipTotal  StnPressure  SeaLevel  ResultSpeed  ResultDir  \\\n",
       "1       -      -        0.000        29.18     29.82          2.7         25   \n",
       "3       -      -        0.000        29.44     30.08         13.3          2   \n",
       "5       -      -        0.000        29.46     30.12         12.9          6   \n",
       "7       -      -        0.000        29.36     30.04         10.1          7   \n",
       "9       -      -        0.005        29.46     30.09         11.2          7   \n",
       "\n",
       "   AvgSpeed  \n",
       "1       9.6  \n",
       "3      13.4  \n",
       "5      13.2  \n",
       "7      10.4  \n",
       "9      11.5  "
      ]
     },
     "execution_count": 14,
     "metadata": {},
     "output_type": "execute_result"
    }
   ],
   "source": [
    "station_2.head()"
   ]
  },
  {
   "cell_type": "markdown",
   "metadata": {},
   "source": [
    "Drop empty colums from station 2 since they would be mostly the same if they were imputed using station 1 anyway."
   ]
  },
  {
   "cell_type": "code",
   "execution_count": 15,
   "metadata": {},
   "outputs": [
    {
     "name": "stderr",
     "output_type": "stream",
     "text": [
      "/Applications/anaconda3/lib/python3.6/site-packages/pandas/core/frame.py:3697: SettingWithCopyWarning: \n",
      "A value is trying to be set on a copy of a slice from a DataFrame\n",
      "\n",
      "See the caveats in the documentation: http://pandas.pydata.org/pandas-docs/stable/indexing.html#indexing-view-versus-copy\n",
      "  errors=errors)\n"
     ]
    }
   ],
   "source": [
    "station_1.reset_index(drop=True)\n",
    "station_2.reset_index(drop=True)\n",
    "station_2.drop(labels=['Depart', 'Sunrise', 'Sunset'], axis=1, inplace=True)"
   ]
  },
  {
   "cell_type": "code",
   "execution_count": 16,
   "metadata": {},
   "outputs": [
    {
     "data": {
      "text/html": [
       "<div>\n",
       "<style scoped>\n",
       "    .dataframe tbody tr th:only-of-type {\n",
       "        vertical-align: middle;\n",
       "    }\n",
       "\n",
       "    .dataframe tbody tr th {\n",
       "        vertical-align: top;\n",
       "    }\n",
       "\n",
       "    .dataframe thead th {\n",
       "        text-align: right;\n",
       "    }\n",
       "</style>\n",
       "<table border=\"1\" class=\"dataframe\">\n",
       "  <thead>\n",
       "    <tr style=\"text-align: right;\">\n",
       "      <th></th>\n",
       "      <th>Date</th>\n",
       "      <th>Tmax</th>\n",
       "      <th>Tmin</th>\n",
       "      <th>Tavg</th>\n",
       "      <th>DewPoint</th>\n",
       "      <th>WetBulb</th>\n",
       "      <th>Heat</th>\n",
       "      <th>Cool</th>\n",
       "      <th>PrecipTotal</th>\n",
       "      <th>StnPressure</th>\n",
       "      <th>SeaLevel</th>\n",
       "      <th>ResultSpeed</th>\n",
       "      <th>ResultDir</th>\n",
       "      <th>AvgSpeed</th>\n",
       "    </tr>\n",
       "  </thead>\n",
       "  <tbody>\n",
       "    <tr>\n",
       "      <th>1</th>\n",
       "      <td>2007-05-01</td>\n",
       "      <td>84</td>\n",
       "      <td>52</td>\n",
       "      <td>68</td>\n",
       "      <td>51</td>\n",
       "      <td>57</td>\n",
       "      <td>0</td>\n",
       "      <td>3</td>\n",
       "      <td>0.000</td>\n",
       "      <td>29.18</td>\n",
       "      <td>29.82</td>\n",
       "      <td>2.7</td>\n",
       "      <td>25</td>\n",
       "      <td>9.6</td>\n",
       "    </tr>\n",
       "    <tr>\n",
       "      <th>3</th>\n",
       "      <td>2007-05-02</td>\n",
       "      <td>60</td>\n",
       "      <td>43</td>\n",
       "      <td>52</td>\n",
       "      <td>42</td>\n",
       "      <td>47</td>\n",
       "      <td>13</td>\n",
       "      <td>0</td>\n",
       "      <td>0.000</td>\n",
       "      <td>29.44</td>\n",
       "      <td>30.08</td>\n",
       "      <td>13.3</td>\n",
       "      <td>2</td>\n",
       "      <td>13.4</td>\n",
       "    </tr>\n",
       "    <tr>\n",
       "      <th>5</th>\n",
       "      <td>2007-05-03</td>\n",
       "      <td>67</td>\n",
       "      <td>48</td>\n",
       "      <td>58</td>\n",
       "      <td>40</td>\n",
       "      <td>50</td>\n",
       "      <td>7</td>\n",
       "      <td>0</td>\n",
       "      <td>0.000</td>\n",
       "      <td>29.46</td>\n",
       "      <td>30.12</td>\n",
       "      <td>12.9</td>\n",
       "      <td>6</td>\n",
       "      <td>13.2</td>\n",
       "    </tr>\n",
       "    <tr>\n",
       "      <th>7</th>\n",
       "      <td>2007-05-04</td>\n",
       "      <td>78</td>\n",
       "      <td>51</td>\n",
       "      <td>0</td>\n",
       "      <td>42</td>\n",
       "      <td>50</td>\n",
       "      <td>0</td>\n",
       "      <td>0</td>\n",
       "      <td>0.000</td>\n",
       "      <td>29.36</td>\n",
       "      <td>30.04</td>\n",
       "      <td>10.1</td>\n",
       "      <td>7</td>\n",
       "      <td>10.4</td>\n",
       "    </tr>\n",
       "    <tr>\n",
       "      <th>9</th>\n",
       "      <td>2007-05-05</td>\n",
       "      <td>66</td>\n",
       "      <td>54</td>\n",
       "      <td>60</td>\n",
       "      <td>39</td>\n",
       "      <td>50</td>\n",
       "      <td>5</td>\n",
       "      <td>0</td>\n",
       "      <td>0.005</td>\n",
       "      <td>29.46</td>\n",
       "      <td>30.09</td>\n",
       "      <td>11.2</td>\n",
       "      <td>7</td>\n",
       "      <td>11.5</td>\n",
       "    </tr>\n",
       "  </tbody>\n",
       "</table>\n",
       "</div>"
      ],
      "text/plain": [
       "         Date  Tmax  Tmin  Tavg  DewPoint  WetBulb  Heat  Cool  PrecipTotal  \\\n",
       "1  2007-05-01    84    52    68        51       57     0     3        0.000   \n",
       "3  2007-05-02    60    43    52        42       47    13     0        0.000   \n",
       "5  2007-05-03    67    48    58        40       50     7     0        0.000   \n",
       "7  2007-05-04    78    51     0        42       50     0     0        0.000   \n",
       "9  2007-05-05    66    54    60        39       50     5     0        0.005   \n",
       "\n",
       "   StnPressure  SeaLevel  ResultSpeed  ResultDir  AvgSpeed  \n",
       "1        29.18     29.82          2.7         25       9.6  \n",
       "3        29.44     30.08         13.3          2      13.4  \n",
       "5        29.46     30.12         12.9          6      13.2  \n",
       "7        29.36     30.04         10.1          7      10.4  \n",
       "9        29.46     30.09         11.2          7      11.5  "
      ]
     },
     "execution_count": 16,
     "metadata": {},
     "output_type": "execute_result"
    }
   ],
   "source": [
    "station_2.head()"
   ]
  },
  {
   "cell_type": "code",
   "execution_count": 17,
   "metadata": {},
   "outputs": [],
   "source": [
    "weather = station_1.merge(station_2, on='Date', suffixes=('_s1', '_s2'))"
   ]
  },
  {
   "cell_type": "code",
   "execution_count": 18,
   "metadata": {},
   "outputs": [],
   "source": [
    "weather['Date'] = pd.to_datetime(weather['Date'])"
   ]
  },
  {
   "cell_type": "code",
   "execution_count": 19,
   "metadata": {},
   "outputs": [],
   "source": [
    "weather['Sunrise'] = weather['Sunrise'].map(lambda x: f'{x[:2]}:{x[2:]}')\n",
    "weather['Sunrise'] = pd.to_datetime(weather['Sunrise'], format='%H:%M')"
   ]
  },
  {
   "cell_type": "code",
   "execution_count": 20,
   "metadata": {},
   "outputs": [
    {
     "data": {
      "text/html": [
       "<div>\n",
       "<style scoped>\n",
       "    .dataframe tbody tr th:only-of-type {\n",
       "        vertical-align: middle;\n",
       "    }\n",
       "\n",
       "    .dataframe tbody tr th {\n",
       "        vertical-align: top;\n",
       "    }\n",
       "\n",
       "    .dataframe thead th {\n",
       "        text-align: right;\n",
       "    }\n",
       "</style>\n",
       "<table border=\"1\" class=\"dataframe\">\n",
       "  <thead>\n",
       "    <tr style=\"text-align: right;\">\n",
       "      <th></th>\n",
       "      <th>Date</th>\n",
       "      <th>Tmax_s1</th>\n",
       "      <th>Tmin_s1</th>\n",
       "      <th>Tavg_s1</th>\n",
       "      <th>Depart</th>\n",
       "      <th>DewPoint_s1</th>\n",
       "      <th>WetBulb_s1</th>\n",
       "      <th>Heat_s1</th>\n",
       "      <th>Cool_s1</th>\n",
       "      <th>Sunrise</th>\n",
       "      <th>...</th>\n",
       "      <th>DewPoint_s2</th>\n",
       "      <th>WetBulb_s2</th>\n",
       "      <th>Heat_s2</th>\n",
       "      <th>Cool_s2</th>\n",
       "      <th>PrecipTotal_s2</th>\n",
       "      <th>StnPressure_s2</th>\n",
       "      <th>SeaLevel_s2</th>\n",
       "      <th>ResultSpeed_s2</th>\n",
       "      <th>ResultDir_s2</th>\n",
       "      <th>AvgSpeed_s2</th>\n",
       "    </tr>\n",
       "  </thead>\n",
       "  <tbody>\n",
       "    <tr>\n",
       "      <th>0</th>\n",
       "      <td>2007-05-01</td>\n",
       "      <td>83</td>\n",
       "      <td>50</td>\n",
       "      <td>67</td>\n",
       "      <td>14</td>\n",
       "      <td>51</td>\n",
       "      <td>56</td>\n",
       "      <td>0</td>\n",
       "      <td>2</td>\n",
       "      <td>1900-01-01 04:48:00</td>\n",
       "      <td>...</td>\n",
       "      <td>51</td>\n",
       "      <td>57</td>\n",
       "      <td>0</td>\n",
       "      <td>3</td>\n",
       "      <td>0.000</td>\n",
       "      <td>29.18</td>\n",
       "      <td>29.82</td>\n",
       "      <td>2.7</td>\n",
       "      <td>25</td>\n",
       "      <td>9.6</td>\n",
       "    </tr>\n",
       "    <tr>\n",
       "      <th>1</th>\n",
       "      <td>2007-05-02</td>\n",
       "      <td>59</td>\n",
       "      <td>42</td>\n",
       "      <td>51</td>\n",
       "      <td>-3</td>\n",
       "      <td>42</td>\n",
       "      <td>47</td>\n",
       "      <td>14</td>\n",
       "      <td>0</td>\n",
       "      <td>1900-01-01 04:47:00</td>\n",
       "      <td>...</td>\n",
       "      <td>42</td>\n",
       "      <td>47</td>\n",
       "      <td>13</td>\n",
       "      <td>0</td>\n",
       "      <td>0.000</td>\n",
       "      <td>29.44</td>\n",
       "      <td>30.08</td>\n",
       "      <td>13.3</td>\n",
       "      <td>2</td>\n",
       "      <td>13.4</td>\n",
       "    </tr>\n",
       "    <tr>\n",
       "      <th>2</th>\n",
       "      <td>2007-05-03</td>\n",
       "      <td>66</td>\n",
       "      <td>46</td>\n",
       "      <td>56</td>\n",
       "      <td>2</td>\n",
       "      <td>40</td>\n",
       "      <td>48</td>\n",
       "      <td>9</td>\n",
       "      <td>0</td>\n",
       "      <td>1900-01-01 04:46:00</td>\n",
       "      <td>...</td>\n",
       "      <td>40</td>\n",
       "      <td>50</td>\n",
       "      <td>7</td>\n",
       "      <td>0</td>\n",
       "      <td>0.000</td>\n",
       "      <td>29.46</td>\n",
       "      <td>30.12</td>\n",
       "      <td>12.9</td>\n",
       "      <td>6</td>\n",
       "      <td>13.2</td>\n",
       "    </tr>\n",
       "    <tr>\n",
       "      <th>3</th>\n",
       "      <td>2007-05-04</td>\n",
       "      <td>66</td>\n",
       "      <td>49</td>\n",
       "      <td>58</td>\n",
       "      <td>4</td>\n",
       "      <td>41</td>\n",
       "      <td>50</td>\n",
       "      <td>7</td>\n",
       "      <td>0</td>\n",
       "      <td>1900-01-01 04:44:00</td>\n",
       "      <td>...</td>\n",
       "      <td>42</td>\n",
       "      <td>50</td>\n",
       "      <td>0</td>\n",
       "      <td>0</td>\n",
       "      <td>0.000</td>\n",
       "      <td>29.36</td>\n",
       "      <td>30.04</td>\n",
       "      <td>10.1</td>\n",
       "      <td>7</td>\n",
       "      <td>10.4</td>\n",
       "    </tr>\n",
       "    <tr>\n",
       "      <th>4</th>\n",
       "      <td>2007-05-05</td>\n",
       "      <td>66</td>\n",
       "      <td>53</td>\n",
       "      <td>60</td>\n",
       "      <td>5</td>\n",
       "      <td>38</td>\n",
       "      <td>49</td>\n",
       "      <td>5</td>\n",
       "      <td>0</td>\n",
       "      <td>1900-01-01 04:43:00</td>\n",
       "      <td>...</td>\n",
       "      <td>39</td>\n",
       "      <td>50</td>\n",
       "      <td>5</td>\n",
       "      <td>0</td>\n",
       "      <td>0.005</td>\n",
       "      <td>29.46</td>\n",
       "      <td>30.09</td>\n",
       "      <td>11.2</td>\n",
       "      <td>7</td>\n",
       "      <td>11.5</td>\n",
       "    </tr>\n",
       "  </tbody>\n",
       "</table>\n",
       "<p>5 rows × 30 columns</p>\n",
       "</div>"
      ],
      "text/plain": [
       "        Date  Tmax_s1  Tmin_s1  Tavg_s1  Depart  DewPoint_s1  WetBulb_s1  \\\n",
       "0 2007-05-01       83       50       67      14           51          56   \n",
       "1 2007-05-02       59       42       51      -3           42          47   \n",
       "2 2007-05-03       66       46       56       2           40          48   \n",
       "3 2007-05-04       66       49       58       4           41          50   \n",
       "4 2007-05-05       66       53       60       5           38          49   \n",
       "\n",
       "   Heat_s1  Cool_s1             Sunrise     ...      DewPoint_s2  WetBulb_s2  \\\n",
       "0        0        2 1900-01-01 04:48:00     ...               51          57   \n",
       "1       14        0 1900-01-01 04:47:00     ...               42          47   \n",
       "2        9        0 1900-01-01 04:46:00     ...               40          50   \n",
       "3        7        0 1900-01-01 04:44:00     ...               42          50   \n",
       "4        5        0 1900-01-01 04:43:00     ...               39          50   \n",
       "\n",
       "   Heat_s2  Cool_s2  PrecipTotal_s2  StnPressure_s2  SeaLevel_s2  \\\n",
       "0        0        3           0.000           29.18        29.82   \n",
       "1       13        0           0.000           29.44        30.08   \n",
       "2        7        0           0.000           29.46        30.12   \n",
       "3        0        0           0.000           29.36        30.04   \n",
       "4        5        0           0.005           29.46        30.09   \n",
       "\n",
       "   ResultSpeed_s2  ResultDir_s2  AvgSpeed_s2  \n",
       "0             2.7            25          9.6  \n",
       "1            13.3             2         13.4  \n",
       "2            12.9             6         13.2  \n",
       "3            10.1             7         10.4  \n",
       "4            11.2             7         11.5  \n",
       "\n",
       "[5 rows x 30 columns]"
      ]
     },
     "execution_count": 20,
     "metadata": {},
     "output_type": "execute_result"
    }
   ],
   "source": [
    "weather.head()"
   ]
  },
  {
   "cell_type": "markdown",
   "metadata": {},
   "source": [
    "For whatever reason some of the sunset times have 60 listed for the minutes. We'll apply the following function to them to increment the hour whenever we find a time with 60 for the minutes."
   ]
  },
  {
   "cell_type": "code",
   "execution_count": 21,
   "metadata": {},
   "outputs": [],
   "source": [
    "def right_time(time):\n",
    "    if time[-2:] == '60':\n",
    "        return f'{int(time[:2]) + 1}:00:00'\n",
    "    else:\n",
    "        return f'{time[:2]}:{time[2:]}:00'"
   ]
  },
  {
   "cell_type": "code",
   "execution_count": 22,
   "metadata": {},
   "outputs": [],
   "source": [
    "weather['Sunset'] = weather['Sunset'].apply(right_time)\n",
    "weather['SunsetTime'] = weather['Date'].astype(str) + ' ' + weather['Sunset']\n",
    "weather['Sunset'] = pd.to_datetime(weather['SunsetTime'])"
   ]
  },
  {
   "cell_type": "code",
   "execution_count": 23,
   "metadata": {},
   "outputs": [],
   "source": [
    "weather.drop('SunsetTime', axis=1, inplace=True)"
   ]
  },
  {
   "cell_type": "code",
   "execution_count": 24,
   "metadata": {},
   "outputs": [],
   "source": [
    "weather['SunsetHour'] = weather['Sunset'].dt.hour\n",
    "weather['SunsetMinute'] = weather['Sunset'].dt.minute\n",
    "weather['SunriseHour'] = weather['Sunrise'].dt.hour\n",
    "weather['SunriseMinute'] = weather['Sunrise'].dt.minute"
   ]
  },
  {
   "cell_type": "code",
   "execution_count": 25,
   "metadata": {},
   "outputs": [],
   "source": [
    "weather.drop(['Sunrise', 'Sunset'], axis=1, inplace=True)"
   ]
  },
  {
   "cell_type": "code",
   "execution_count": 26,
   "metadata": {
    "scrolled": true
   },
   "outputs": [
    {
     "name": "stdout",
     "output_type": "stream",
     "text": [
      "<class 'pandas.core.frame.DataFrame'>\n",
      "Int64Index: 1472 entries, 0 to 1471\n",
      "Data columns (total 32 columns):\n",
      "Date              1472 non-null datetime64[ns]\n",
      "Tmax_s1           1472 non-null int64\n",
      "Tmin_s1           1472 non-null int64\n",
      "Tavg_s1           1472 non-null int64\n",
      "Depart            1472 non-null int64\n",
      "DewPoint_s1       1472 non-null int64\n",
      "WetBulb_s1        1472 non-null int64\n",
      "Heat_s1           1472 non-null int64\n",
      "Cool_s1           1472 non-null int64\n",
      "PrecipTotal_s1    1472 non-null float64\n",
      "StnPressure_s1    1472 non-null float64\n",
      "SeaLevel_s1       1472 non-null float64\n",
      "ResultSpeed_s1    1472 non-null float64\n",
      "ResultDir_s1      1472 non-null int64\n",
      "AvgSpeed_s1       1472 non-null float64\n",
      "Tmax_s2           1472 non-null int64\n",
      "Tmin_s2           1472 non-null int64\n",
      "Tavg_s2           1472 non-null int64\n",
      "DewPoint_s2       1472 non-null int64\n",
      "WetBulb_s2        1472 non-null int64\n",
      "Heat_s2           1472 non-null int64\n",
      "Cool_s2           1472 non-null int64\n",
      "PrecipTotal_s2    1472 non-null float64\n",
      "StnPressure_s2    1472 non-null float64\n",
      "SeaLevel_s2       1472 non-null float64\n",
      "ResultSpeed_s2    1472 non-null float64\n",
      "ResultDir_s2      1472 non-null int64\n",
      "AvgSpeed_s2       1472 non-null float64\n",
      "SunsetHour        1472 non-null int64\n",
      "SunsetMinute      1472 non-null int64\n",
      "SunriseHour       1472 non-null int64\n",
      "SunriseMinute     1472 non-null int64\n",
      "dtypes: datetime64[ns](1), float64(10), int64(21)\n",
      "memory usage: 379.5 KB\n"
     ]
    }
   ],
   "source": [
    "weather.info()"
   ]
  },
  {
   "cell_type": "code",
   "execution_count": 27,
   "metadata": {},
   "outputs": [],
   "source": [
    "weather.set_index('Date', inplace=True)"
   ]
  },
  {
   "cell_type": "markdown",
   "metadata": {},
   "source": [
    "## Merge Weather to All Data"
   ]
  },
  {
   "cell_type": "code",
   "execution_count": 28,
   "metadata": {
    "scrolled": true
   },
   "outputs": [],
   "source": [
    "all_data['Date'] = pd.to_datetime(all_data['Date'])\n",
    "all_data['Month'] = all_data['Date'].dt.month\n",
    "all_data['Weekday'] = all_data['Date'].dt.weekday\n",
    "all_data['Week'] = all_data['Date'].dt.week\n",
    "all_data['Year'] = all_data['Date'].dt.year"
   ]
  },
  {
   "cell_type": "code",
   "execution_count": 29,
   "metadata": {},
   "outputs": [],
   "source": [
    "all_data.set_index('Date', inplace=True)"
   ]
  },
  {
   "cell_type": "code",
   "execution_count": 30,
   "metadata": {},
   "outputs": [],
   "source": [
    "all_data = all_data.merge(weather, on='Date')"
   ]
  },
  {
   "cell_type": "code",
   "execution_count": 31,
   "metadata": {
    "scrolled": true
   },
   "outputs": [
    {
     "data": {
      "text/html": [
       "<div>\n",
       "<style scoped>\n",
       "    .dataframe tbody tr th:only-of-type {\n",
       "        vertical-align: middle;\n",
       "    }\n",
       "\n",
       "    .dataframe tbody tr th {\n",
       "        vertical-align: top;\n",
       "    }\n",
       "\n",
       "    .dataframe thead th {\n",
       "        text-align: right;\n",
       "    }\n",
       "</style>\n",
       "<table border=\"1\" class=\"dataframe\">\n",
       "  <thead>\n",
       "    <tr style=\"text-align: right;\">\n",
       "      <th></th>\n",
       "      <th>Month</th>\n",
       "      <th>Weekday</th>\n",
       "      <th>Week</th>\n",
       "    </tr>\n",
       "    <tr>\n",
       "      <th>Date</th>\n",
       "      <th></th>\n",
       "      <th></th>\n",
       "      <th></th>\n",
       "    </tr>\n",
       "  </thead>\n",
       "  <tbody>\n",
       "    <tr>\n",
       "      <th>2007-05-29</th>\n",
       "      <td>5</td>\n",
       "      <td>1</td>\n",
       "      <td>22</td>\n",
       "    </tr>\n",
       "    <tr>\n",
       "      <th>2007-05-29</th>\n",
       "      <td>5</td>\n",
       "      <td>1</td>\n",
       "      <td>22</td>\n",
       "    </tr>\n",
       "    <tr>\n",
       "      <th>2007-05-29</th>\n",
       "      <td>5</td>\n",
       "      <td>1</td>\n",
       "      <td>22</td>\n",
       "    </tr>\n",
       "    <tr>\n",
       "      <th>2007-05-29</th>\n",
       "      <td>5</td>\n",
       "      <td>1</td>\n",
       "      <td>22</td>\n",
       "    </tr>\n",
       "    <tr>\n",
       "      <th>2007-05-29</th>\n",
       "      <td>5</td>\n",
       "      <td>1</td>\n",
       "      <td>22</td>\n",
       "    </tr>\n",
       "  </tbody>\n",
       "</table>\n",
       "</div>"
      ],
      "text/plain": [
       "            Month  Weekday  Week\n",
       "Date                            \n",
       "2007-05-29      5        1    22\n",
       "2007-05-29      5        1    22\n",
       "2007-05-29      5        1    22\n",
       "2007-05-29      5        1    22\n",
       "2007-05-29      5        1    22"
      ]
     },
     "execution_count": 31,
     "metadata": {},
     "output_type": "execute_result"
    }
   ],
   "source": [
    "all_data[['Month', 'Weekday', 'Week']].head()"
   ]
  },
  {
   "cell_type": "code",
   "execution_count": 32,
   "metadata": {
    "scrolled": true
   },
   "outputs": [
    {
     "name": "stdout",
     "output_type": "stream",
     "text": [
      "<class 'pandas.core.frame.DataFrame'>\n",
      "DatetimeIndex: 126799 entries, 2007-05-29 to 2014-10-02\n",
      "Data columns (total 47 columns):\n",
      "Address                   126799 non-null object\n",
      "Species                   126799 non-null object\n",
      "Block                     126799 non-null int64\n",
      "Street                    126799 non-null object\n",
      "Trap                      126799 non-null object\n",
      "AddressNumberAndStreet    126799 non-null object\n",
      "Latitude                  126799 non-null float64\n",
      "Longitude                 126799 non-null float64\n",
      "AddressAccuracy           126799 non-null int64\n",
      "NumMosquitos              10506 non-null float64\n",
      "WnvPresent                10506 non-null float64\n",
      "Id                        116293 non-null float64\n",
      "Month                     126799 non-null int64\n",
      "Weekday                   126799 non-null int64\n",
      "Week                      126799 non-null int64\n",
      "Year                      126799 non-null int64\n",
      "Tmax_s1                   126799 non-null int64\n",
      "Tmin_s1                   126799 non-null int64\n",
      "Tavg_s1                   126799 non-null int64\n",
      "Depart                    126799 non-null int64\n",
      "DewPoint_s1               126799 non-null int64\n",
      "WetBulb_s1                126799 non-null int64\n",
      "Heat_s1                   126799 non-null int64\n",
      "Cool_s1                   126799 non-null int64\n",
      "PrecipTotal_s1            126799 non-null float64\n",
      "StnPressure_s1            126799 non-null float64\n",
      "SeaLevel_s1               126799 non-null float64\n",
      "ResultSpeed_s1            126799 non-null float64\n",
      "ResultDir_s1              126799 non-null int64\n",
      "AvgSpeed_s1               126799 non-null float64\n",
      "Tmax_s2                   126799 non-null int64\n",
      "Tmin_s2                   126799 non-null int64\n",
      "Tavg_s2                   126799 non-null int64\n",
      "DewPoint_s2               126799 non-null int64\n",
      "WetBulb_s2                126799 non-null int64\n",
      "Heat_s2                   126799 non-null int64\n",
      "Cool_s2                   126799 non-null int64\n",
      "PrecipTotal_s2            126799 non-null float64\n",
      "StnPressure_s2            126799 non-null float64\n",
      "SeaLevel_s2               126799 non-null float64\n",
      "ResultSpeed_s2            126799 non-null float64\n",
      "ResultDir_s2              126799 non-null int64\n",
      "AvgSpeed_s2               126799 non-null float64\n",
      "SunsetHour                126799 non-null int64\n",
      "SunsetMinute              126799 non-null int64\n",
      "SunriseHour               126799 non-null int64\n",
      "SunriseMinute             126799 non-null int64\n",
      "dtypes: float64(15), int64(27), object(5)\n",
      "memory usage: 46.4+ MB\n"
     ]
    }
   ],
   "source": [
    "all_data.info()"
   ]
  },
  {
   "cell_type": "markdown",
   "metadata": {},
   "source": [
    "## Separate Out Train and Test"
   ]
  },
  {
   "cell_type": "code",
   "execution_count": 33,
   "metadata": {},
   "outputs": [
    {
     "data": {
      "text/plain": [
       "(10506, 47)"
      ]
     },
     "execution_count": 33,
     "metadata": {},
     "output_type": "execute_result"
    }
   ],
   "source": [
    "train = all_data[all_data['Id'].isnull()]\n",
    "train.shape"
   ]
  },
  {
   "cell_type": "code",
   "execution_count": 34,
   "metadata": {},
   "outputs": [
    {
     "data": {
      "text/plain": [
       "(116293, 47)"
      ]
     },
     "execution_count": 34,
     "metadata": {},
     "output_type": "execute_result"
    }
   ],
   "source": [
    "test = all_data[pd.notnull(all_data['Id'])]\n",
    "test.shape"
   ]
  },
  {
   "cell_type": "markdown",
   "metadata": {},
   "source": [
    "## Correlation"
   ]
  },
  {
   "cell_type": "code",
   "execution_count": 35,
   "metadata": {
    "scrolled": true
   },
   "outputs": [
    {
     "data": {
      "text/plain": [
       "SunsetHour        -0.071959\n",
       "Longitude         -0.060345\n",
       "Heat_s1           -0.056813\n",
       "Heat_s2           -0.052008\n",
       "ResultSpeed_s1    -0.051177\n",
       "ResultSpeed_s2    -0.040141\n",
       "SunriseMinute     -0.035951\n",
       "AvgSpeed_s1       -0.029958\n",
       "AvgSpeed_s2       -0.028088\n",
       "PrecipTotal_s1    -0.021426\n",
       "ResultDir_s2      -0.007983\n",
       "Block              0.004877\n",
       "SeaLevel_s1        0.005620\n",
       "SeaLevel_s2        0.007322\n",
       "ResultDir_s1       0.007922\n",
       "AddressAccuracy    0.008064\n",
       "StnPressure_s2     0.011917\n",
       "Weekday            0.014968\n",
       "StnPressure_s1     0.022482\n",
       "Latitude           0.028697\n",
       "PrecipTotal_s2     0.039332\n",
       "SunsetMinute       0.044231\n",
       "Tmax_s2            0.045755\n",
       "Tmax_s1            0.050536\n",
       "Year               0.050865\n",
       "Depart             0.055436\n",
       "Cool_s2            0.056728\n",
       "Cool_s1            0.058953\n",
       "Tavg_s2            0.062072\n",
       "Tavg_s1            0.066043\n",
       "Tmin_s1            0.072719\n",
       "Tmin_s2            0.074459\n",
       "WetBulb_s1         0.077242\n",
       "WetBulb_s2         0.077728\n",
       "DewPoint_s2        0.080873\n",
       "DewPoint_s1        0.090460\n",
       "Month              0.100143\n",
       "Week               0.104171\n",
       "SunriseHour        0.110303\n",
       "NumMosquitos       0.196820\n",
       "Name: WnvPresent, dtype: float64"
      ]
     },
     "execution_count": 35,
     "metadata": {},
     "output_type": "execute_result"
    }
   ],
   "source": [
    "train.corr()['WnvPresent'].sort_values()[:-2]"
   ]
  },
  {
   "cell_type": "code",
   "execution_count": 48,
   "metadata": {},
   "outputs": [
    {
     "name": "stderr",
     "output_type": "stream",
     "text": [
      "/Applications/anaconda3/lib/python3.6/site-packages/ipykernel_launcher.py:1: SettingWithCopyWarning: \n",
      "A value is trying to be set on a copy of a slice from a DataFrame.\n",
      "Try using .loc[row_indexer,col_indexer] = value instead\n",
      "\n",
      "See the caveats in the documentation: http://pandas.pydata.org/pandas-docs/stable/indexing.html#indexing-view-versus-copy\n",
      "  \"\"\"Entry point for launching an IPython kernel.\n"
     ]
    }
   ],
   "source": [
    "train['Date'] = train.index"
   ]
  },
  {
   "cell_type": "code",
   "execution_count": 51,
   "metadata": {},
   "outputs": [],
   "source": [
    "train.reset_index(drop=True, inplace=True)"
   ]
  },
  {
   "cell_type": "code",
   "execution_count": 56,
   "metadata": {},
   "outputs": [
    {
     "data": {
      "text/plain": [
       "Date        Trap\n",
       "2007-05-29  T002     2.0\n",
       "            T007     1.0\n",
       "            T015     5.0\n",
       "            T045     2.0\n",
       "            T046     1.0\n",
       "            T048     3.0\n",
       "            T049     1.0\n",
       "            T050     1.0\n",
       "            T054     5.0\n",
       "            T086     2.0\n",
       "            T091     1.0\n",
       "            T094     3.0\n",
       "            T096     6.0\n",
       "            T129     3.0\n",
       "            T143     1.0\n",
       "            T148     1.0\n",
       "            T153     1.0\n",
       "            T159     1.0\n",
       "2007-06-05  T002     9.0\n",
       "            T009     2.0\n",
       "            T011     1.0\n",
       "            T015     3.0\n",
       "            T016     1.0\n",
       "            T019     1.0\n",
       "            T025     1.0\n",
       "            T028     2.0\n",
       "            T031     1.0\n",
       "            T033     3.0\n",
       "            T045     4.0\n",
       "            T046     1.0\n",
       "                    ... \n",
       "2013-09-26  T099     5.0\n",
       "            T102     4.0\n",
       "            T114     4.0\n",
       "            T115     7.0\n",
       "            T128    11.0\n",
       "            T135     7.0\n",
       "            T138    10.0\n",
       "            T145     2.0\n",
       "            T151     8.0\n",
       "            T152     2.0\n",
       "            T155     4.0\n",
       "            T158     8.0\n",
       "            T159    27.0\n",
       "            T209    18.0\n",
       "            T212     3.0\n",
       "            T220     8.0\n",
       "            T221    14.0\n",
       "            T222     1.0\n",
       "            T223    12.0\n",
       "            T224     3.0\n",
       "            T225     3.0\n",
       "            T226     8.0\n",
       "            T227     8.0\n",
       "            T228     3.0\n",
       "            T230    18.0\n",
       "            T231     5.0\n",
       "            T232     1.0\n",
       "            T233     5.0\n",
       "            T235     1.0\n",
       "            T900    80.0\n",
       "Name: NumMosquitos, Length: 4616, dtype: float64"
      ]
     },
     "execution_count": 56,
     "metadata": {},
     "output_type": "execute_result"
    }
   ],
   "source": [
    "train.groupby(by=['Date', 'Trap']).NumMosquitos.sum()"
   ]
  },
  {
   "cell_type": "markdown",
   "metadata": {},
   "source": [
    "## Baseline"
   ]
  },
  {
   "cell_type": "code",
   "execution_count": null,
   "metadata": {},
   "outputs": [],
   "source": [
    "len(train[train['WnvPresent'] == 1]) / len(train)"
   ]
  },
  {
   "cell_type": "markdown",
   "metadata": {},
   "source": [
    "## Save Merged Data as a New CSV"
   ]
  },
  {
   "cell_type": "code",
   "execution_count": null,
   "metadata": {},
   "outputs": [],
   "source": [
    "# train.to_csv('../data/new_train.csv')\n",
    "# test.to_csv('../data/new_test.csv')"
   ]
  }
 ],
 "metadata": {
  "kernelspec": {
   "display_name": "Python 3",
   "language": "python",
   "name": "python3"
  },
  "language_info": {
   "codemirror_mode": {
    "name": "ipython",
    "version": 3
   },
   "file_extension": ".py",
   "mimetype": "text/x-python",
   "name": "python",
   "nbconvert_exporter": "python",
   "pygments_lexer": "ipython3",
   "version": "3.6.5"
  }
 },
 "nbformat": 4,
 "nbformat_minor": 2
}
