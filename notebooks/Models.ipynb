{
 "cells": [
  {
   "cell_type": "code",
   "execution_count": 1,
   "metadata": {},
   "outputs": [],
   "source": [
    "import pandas as pd\n",
    "import numpy as np\n",
    "from sklearn.model_selection import train_test_split\n",
    "from sklearn.model_selection import TimeSeriesSplit\n",
    "from sklearn.ensemble import RandomForestClassifier\n",
    "from sklearn.ensemble import AdaBoostClassifier\n",
    "from sklearn.tree import DecisionTreeClassifier\n",
    "from sklearn.preprocessing import StandardScaler\n",
    "from sklearn.linear_model import LogisticRegression\n",
    "from sklearn.svm import SVC\n",
    "from imblearn.over_sampling import SMOTE\n",
    "from sklearn.metrics import recall_score, roc_auc_score\n",
    "from sklearn.metrics import confusion_matrix, roc_curve, auc\n",
    "import xgboost as xgb\n",
    "from xgboost.sklearn import XGBClassifier \n",
    "from os import listdir\n",
    "import matplotlib.pyplot as plt\n",
    "import seaborn as sns\n",
    "\n",
    "% matplotlib inline"
   ]
  },
  {
   "cell_type": "code",
   "execution_count": 2,
   "metadata": {},
   "outputs": [],
   "source": [
    "train = pd.read_csv('../data/new_train.csv', index_col='Date')\n",
    "test = pd.read_csv('../data/new_test.csv', index_col='Date')"
   ]
  },
  {
   "cell_type": "code",
   "execution_count": 3,
   "metadata": {
    "scrolled": true
   },
   "outputs": [
    {
     "name": "stdout",
     "output_type": "stream",
     "text": [
      "<class 'pandas.core.frame.DataFrame'>\n",
      "Index: 10506 entries, 2007-05-29 to 2013-09-26\n",
      "Data columns (total 41 columns):\n",
      "Species           10506 non-null int64\n",
      "Block             10506 non-null int64\n",
      "Trap              10506 non-null int64\n",
      "Latitude          10506 non-null float64\n",
      "Longitude         10506 non-null float64\n",
      "WnvPresent        10506 non-null float64\n",
      "Month             10506 non-null int64\n",
      "Weekday           10506 non-null int64\n",
      "Week              10506 non-null int64\n",
      "Year              10506 non-null int64\n",
      "Tmax_s1           10506 non-null int64\n",
      "Tmin_s1           10506 non-null int64\n",
      "Tavg_s1           10506 non-null int64\n",
      "Depart            10506 non-null int64\n",
      "DewPoint_s1       10506 non-null int64\n",
      "WetBulb_s1        10506 non-null int64\n",
      "Heat_s1           10506 non-null int64\n",
      "Cool_s1           10506 non-null int64\n",
      "PrecipTotal_s1    10506 non-null float64\n",
      "StnPressure_s1    10506 non-null float64\n",
      "SeaLevel_s1       10506 non-null float64\n",
      "ResultSpeed_s1    10506 non-null float64\n",
      "ResultDir_s1      10506 non-null int64\n",
      "AvgSpeed_s1       10506 non-null float64\n",
      "Tmax_s2           10506 non-null int64\n",
      "Tmin_s2           10506 non-null int64\n",
      "Tavg_s2           10506 non-null int64\n",
      "DewPoint_s2       10506 non-null int64\n",
      "WetBulb_s2        10506 non-null int64\n",
      "Heat_s2           10506 non-null int64\n",
      "Cool_s2           10506 non-null int64\n",
      "PrecipTotal_s2    10506 non-null float64\n",
      "StnPressure_s2    10506 non-null float64\n",
      "SeaLevel_s2       10506 non-null float64\n",
      "ResultSpeed_s2    10506 non-null float64\n",
      "ResultDir_s2      10506 non-null int64\n",
      "AvgSpeed_s2       10506 non-null float64\n",
      "SunsetHour        10506 non-null int64\n",
      "SunsetMinute      10506 non-null int64\n",
      "SunriseHour       10506 non-null int64\n",
      "SunriseMinute     10506 non-null int64\n",
      "dtypes: float64(13), int64(28)\n",
      "memory usage: 3.4+ MB\n"
     ]
    }
   ],
   "source": [
    "train.info()"
   ]
  },
  {
   "cell_type": "code",
   "execution_count": 4,
   "metadata": {},
   "outputs": [],
   "source": [
    "X = train.drop('WnvPresent', axis =1)\n",
    "y = train['WnvPresent']"
   ]
  },
  {
   "cell_type": "markdown",
   "metadata": {},
   "source": [
    "## Scaling "
   ]
  },
  {
   "cell_type": "code",
   "execution_count": 5,
   "metadata": {},
   "outputs": [
    {
     "data": {
      "text/html": [
       "<div>\n",
       "<style scoped>\n",
       "    .dataframe tbody tr th:only-of-type {\n",
       "        vertical-align: middle;\n",
       "    }\n",
       "\n",
       "    .dataframe tbody tr th {\n",
       "        vertical-align: top;\n",
       "    }\n",
       "\n",
       "    .dataframe thead th {\n",
       "        text-align: right;\n",
       "    }\n",
       "</style>\n",
       "<table border=\"1\" class=\"dataframe\">\n",
       "  <thead>\n",
       "    <tr style=\"text-align: right;\">\n",
       "      <th></th>\n",
       "      <th>Species</th>\n",
       "      <th>Block</th>\n",
       "      <th>Trap</th>\n",
       "      <th>Latitude</th>\n",
       "      <th>Longitude</th>\n",
       "      <th>Month</th>\n",
       "      <th>Weekday</th>\n",
       "      <th>Week</th>\n",
       "      <th>Year</th>\n",
       "      <th>Tmax_s1</th>\n",
       "      <th>...</th>\n",
       "      <th>PrecipTotal_s2</th>\n",
       "      <th>StnPressure_s2</th>\n",
       "      <th>SeaLevel_s2</th>\n",
       "      <th>ResultSpeed_s2</th>\n",
       "      <th>ResultDir_s2</th>\n",
       "      <th>AvgSpeed_s2</th>\n",
       "      <th>SunsetHour</th>\n",
       "      <th>SunsetMinute</th>\n",
       "      <th>SunriseHour</th>\n",
       "      <th>SunriseMinute</th>\n",
       "    </tr>\n",
       "  </thead>\n",
       "  <tbody>\n",
       "    <tr>\n",
       "      <th>0</th>\n",
       "      <td>-0.113161</td>\n",
       "      <td>0.218265</td>\n",
       "      <td>-1.737760</td>\n",
       "      <td>1.007225</td>\n",
       "      <td>-1.047388</td>\n",
       "      <td>-2.522009</td>\n",
       "      <td>-1.166737</td>\n",
       "      <td>-2.140018</td>\n",
       "      <td>-1.094163</td>\n",
       "      <td>0.743177</td>\n",
       "      <td>...</td>\n",
       "      <td>-0.448547</td>\n",
       "      <td>1.140441</td>\n",
       "      <td>1.150732</td>\n",
       "      <td>-0.036184</td>\n",
       "      <td>-0.194514</td>\n",
       "      <td>-0.028583</td>\n",
       "      <td>0.800786</td>\n",
       "      <td>-0.690669</td>\n",
       "      <td>-0.775423</td>\n",
       "      <td>-0.644694</td>\n",
       "    </tr>\n",
       "    <tr>\n",
       "      <th>1</th>\n",
       "      <td>0.951177</td>\n",
       "      <td>0.218265</td>\n",
       "      <td>-1.737760</td>\n",
       "      <td>1.007225</td>\n",
       "      <td>-1.047388</td>\n",
       "      <td>-2.522009</td>\n",
       "      <td>-1.166737</td>\n",
       "      <td>-2.140018</td>\n",
       "      <td>-1.094163</td>\n",
       "      <td>0.743177</td>\n",
       "      <td>...</td>\n",
       "      <td>-0.448547</td>\n",
       "      <td>1.140441</td>\n",
       "      <td>1.150732</td>\n",
       "      <td>-0.036184</td>\n",
       "      <td>-0.194514</td>\n",
       "      <td>-0.028583</td>\n",
       "      <td>0.800786</td>\n",
       "      <td>-0.690669</td>\n",
       "      <td>-0.775423</td>\n",
       "      <td>-0.644694</td>\n",
       "    </tr>\n",
       "    <tr>\n",
       "      <th>2</th>\n",
       "      <td>0.951177</td>\n",
       "      <td>1.081102</td>\n",
       "      <td>-1.579219</td>\n",
       "      <td>1.364706</td>\n",
       "      <td>-0.718799</td>\n",
       "      <td>-2.522009</td>\n",
       "      <td>-1.166737</td>\n",
       "      <td>-2.140018</td>\n",
       "      <td>-1.094163</td>\n",
       "      <td>0.743177</td>\n",
       "      <td>...</td>\n",
       "      <td>-0.448547</td>\n",
       "      <td>1.140441</td>\n",
       "      <td>1.150732</td>\n",
       "      <td>-0.036184</td>\n",
       "      <td>-0.194514</td>\n",
       "      <td>-0.028583</td>\n",
       "      <td>0.800786</td>\n",
       "      <td>-0.690669</td>\n",
       "      <td>-0.775423</td>\n",
       "      <td>-0.644694</td>\n",
       "    </tr>\n",
       "    <tr>\n",
       "      <th>3</th>\n",
       "      <td>-0.113161</td>\n",
       "      <td>1.779590</td>\n",
       "      <td>-1.420678</td>\n",
       "      <td>1.179300</td>\n",
       "      <td>-1.294214</td>\n",
       "      <td>-2.522009</td>\n",
       "      <td>-1.166737</td>\n",
       "      <td>-2.140018</td>\n",
       "      <td>-1.094163</td>\n",
       "      <td>0.743177</td>\n",
       "      <td>...</td>\n",
       "      <td>-0.448547</td>\n",
       "      <td>1.140441</td>\n",
       "      <td>1.150732</td>\n",
       "      <td>-0.036184</td>\n",
       "      <td>-0.194514</td>\n",
       "      <td>-0.028583</td>\n",
       "      <td>0.800786</td>\n",
       "      <td>-0.690669</td>\n",
       "      <td>-0.775423</td>\n",
       "      <td>-0.644694</td>\n",
       "    </tr>\n",
       "    <tr>\n",
       "      <th>4</th>\n",
       "      <td>0.951177</td>\n",
       "      <td>1.779590</td>\n",
       "      <td>-1.420678</td>\n",
       "      <td>1.179300</td>\n",
       "      <td>-1.294214</td>\n",
       "      <td>-2.522009</td>\n",
       "      <td>-1.166737</td>\n",
       "      <td>-2.140018</td>\n",
       "      <td>-1.094163</td>\n",
       "      <td>0.743177</td>\n",
       "      <td>...</td>\n",
       "      <td>-0.448547</td>\n",
       "      <td>1.140441</td>\n",
       "      <td>1.150732</td>\n",
       "      <td>-0.036184</td>\n",
       "      <td>-0.194514</td>\n",
       "      <td>-0.028583</td>\n",
       "      <td>0.800786</td>\n",
       "      <td>-0.690669</td>\n",
       "      <td>-0.775423</td>\n",
       "      <td>-0.644694</td>\n",
       "    </tr>\n",
       "  </tbody>\n",
       "</table>\n",
       "<p>5 rows × 40 columns</p>\n",
       "</div>"
      ],
      "text/plain": [
       "    Species     Block      Trap  Latitude  Longitude     Month   Weekday  \\\n",
       "0 -0.113161  0.218265 -1.737760  1.007225  -1.047388 -2.522009 -1.166737   \n",
       "1  0.951177  0.218265 -1.737760  1.007225  -1.047388 -2.522009 -1.166737   \n",
       "2  0.951177  1.081102 -1.579219  1.364706  -0.718799 -2.522009 -1.166737   \n",
       "3 -0.113161  1.779590 -1.420678  1.179300  -1.294214 -2.522009 -1.166737   \n",
       "4  0.951177  1.779590 -1.420678  1.179300  -1.294214 -2.522009 -1.166737   \n",
       "\n",
       "       Week      Year   Tmax_s1      ...        PrecipTotal_s2  \\\n",
       "0 -2.140018 -1.094163  0.743177      ...             -0.448547   \n",
       "1 -2.140018 -1.094163  0.743177      ...             -0.448547   \n",
       "2 -2.140018 -1.094163  0.743177      ...             -0.448547   \n",
       "3 -2.140018 -1.094163  0.743177      ...             -0.448547   \n",
       "4 -2.140018 -1.094163  0.743177      ...             -0.448547   \n",
       "\n",
       "   StnPressure_s2  SeaLevel_s2  ResultSpeed_s2  ResultDir_s2  AvgSpeed_s2  \\\n",
       "0        1.140441     1.150732       -0.036184     -0.194514    -0.028583   \n",
       "1        1.140441     1.150732       -0.036184     -0.194514    -0.028583   \n",
       "2        1.140441     1.150732       -0.036184     -0.194514    -0.028583   \n",
       "3        1.140441     1.150732       -0.036184     -0.194514    -0.028583   \n",
       "4        1.140441     1.150732       -0.036184     -0.194514    -0.028583   \n",
       "\n",
       "   SunsetHour  SunsetMinute  SunriseHour  SunriseMinute  \n",
       "0    0.800786     -0.690669    -0.775423      -0.644694  \n",
       "1    0.800786     -0.690669    -0.775423      -0.644694  \n",
       "2    0.800786     -0.690669    -0.775423      -0.644694  \n",
       "3    0.800786     -0.690669    -0.775423      -0.644694  \n",
       "4    0.800786     -0.690669    -0.775423      -0.644694  \n",
       "\n",
       "[5 rows x 40 columns]"
      ]
     },
     "execution_count": 5,
     "metadata": {},
     "output_type": "execute_result"
    }
   ],
   "source": [
    "ss = StandardScaler()\n",
    "X_scaled = ss.fit_transform(X)\n",
    "X_scaled_df = pd.DataFrame(X_scaled, columns=X.columns)\n",
    "X_scaled_df.head()"
   ]
  },
  {
   "cell_type": "markdown",
   "metadata": {},
   "source": [
    "Creating a scaled version of test in the event that a scaled model performs better."
   ]
  },
  {
   "cell_type": "code",
   "execution_count": 6,
   "metadata": {},
   "outputs": [],
   "source": [
    "ids = test['Id']\n",
    "test.drop('Id', axis=1, inplace=True)"
   ]
  },
  {
   "cell_type": "code",
   "execution_count": 7,
   "metadata": {},
   "outputs": [],
   "source": [
    "test_scaled = ss.transform(test)\n",
    "test_scaled_df = pd.DataFrame(test_scaled, columns=test.columns)"
   ]
  },
  {
   "cell_type": "markdown",
   "metadata": {},
   "source": [
    "## Train Test Split "
   ]
  },
  {
   "cell_type": "code",
   "execution_count": 8,
   "metadata": {},
   "outputs": [],
   "source": [
    "X_train, X_test, y_train, y_test = train_test_split(X, y)\n",
    "X_scaled_train, X_scaled_test, y_scaled_train, y_scaled_test = train_test_split(X_scaled_df, y)"
   ]
  },
  {
   "cell_type": "code",
   "execution_count": 9,
   "metadata": {},
   "outputs": [
    {
     "data": {
      "text/plain": [
       "(0.05178322122096713, 0.054434716406547394)"
      ]
     },
     "execution_count": 9,
     "metadata": {},
     "output_type": "execute_result"
    }
   ],
   "source": [
    "y_train.mean(), y_test.mean()"
   ]
  },
  {
   "cell_type": "code",
   "execution_count": 10,
   "metadata": {},
   "outputs": [
    {
     "data": {
      "text/plain": [
       "(0.05216398020053306, 0.053292729349067376)"
      ]
     },
     "execution_count": 10,
     "metadata": {},
     "output_type": "execute_result"
    }
   ],
   "source": [
    "y_scaled_train.mean(), y_scaled_test.mean()"
   ]
  },
  {
   "cell_type": "markdown",
   "metadata": {},
   "source": [
    "## Oversampling Minority Class (Presence of West Nile Virus)"
   ]
  },
  {
   "cell_type": "code",
   "execution_count": 11,
   "metadata": {},
   "outputs": [],
   "source": [
    "sm = SMOTE()\n",
    "X_resample, y_resample = sm.fit_sample(X_train, y_train)\n",
    "X_scaled_res, y_scaled_res = sm.fit_sample(X_scaled_train, y_scaled_train)"
   ]
  },
  {
   "cell_type": "markdown",
   "metadata": {},
   "source": [
    "## Scoring Function"
   ]
  },
  {
   "cell_type": "code",
   "execution_count": 12,
   "metadata": {},
   "outputs": [],
   "source": [
    "def auc_score(model, scaled=False):\n",
    "    if scaled:\n",
    "        preds = model.predict_proba(X_scaled_test)[:,1]\n",
    "    else:\n",
    "        preds = model.predict_proba(X_test)[:,1]\n",
    "    return roc_auc_score(y_test, preds)    "
   ]
  },
  {
   "cell_type": "markdown",
   "metadata": {},
   "source": [
    "## Random Forest"
   ]
  },
  {
   "cell_type": "markdown",
   "metadata": {},
   "source": [
    "Using unscaled data."
   ]
  },
  {
   "cell_type": "code",
   "execution_count": 13,
   "metadata": {},
   "outputs": [
    {
     "data": {
      "text/plain": [
       "0.9196802436239055"
      ]
     },
     "execution_count": 13,
     "metadata": {},
     "output_type": "execute_result"
    }
   ],
   "source": [
    "rf = RandomForestClassifier(n_estimators=1000)\n",
    "model = rf.fit(X_resample, y_resample)\n",
    "rf.score(X_test, y_test)"
   ]
  },
  {
   "cell_type": "code",
   "execution_count": 14,
   "metadata": {},
   "outputs": [
    {
     "data": {
      "text/plain": [
       "0.8054274630361586"
      ]
     },
     "execution_count": 14,
     "metadata": {},
     "output_type": "execute_result"
    }
   ],
   "source": [
    "auc_score(rf)"
   ]
  },
  {
   "cell_type": "markdown",
   "metadata": {},
   "source": [
    "Using scaled data."
   ]
  },
  {
   "cell_type": "code",
   "execution_count": 15,
   "metadata": {},
   "outputs": [
    {
     "data": {
      "text/plain": [
       "0.9467072706509326"
      ]
     },
     "execution_count": 15,
     "metadata": {},
     "output_type": "execute_result"
    }
   ],
   "source": [
    "rf_scaled = RandomForestClassifier(n_estimators=1000)\n",
    "rf_scaled.fit(X_scaled_res, y_scaled_res)\n",
    "rf.score(X_scaled_test, y_scaled_test)"
   ]
  },
  {
   "cell_type": "code",
   "execution_count": 16,
   "metadata": {},
   "outputs": [
    {
     "data": {
      "text/plain": [
       "0.47439838744186563"
      ]
     },
     "execution_count": 16,
     "metadata": {},
     "output_type": "execute_result"
    }
   ],
   "source": [
    "auc_score(rf_scaled, scaled=True)"
   ]
  },
  {
   "cell_type": "markdown",
   "metadata": {},
   "source": [
    "## Logistic Regression"
   ]
  },
  {
   "cell_type": "code",
   "execution_count": 17,
   "metadata": {},
   "outputs": [
    {
     "data": {
      "text/plain": [
       "0.6981347544727826"
      ]
     },
     "execution_count": 17,
     "metadata": {},
     "output_type": "execute_result"
    }
   ],
   "source": [
    "logreg = LogisticRegression()\n",
    "logreg.fit(X_resample, y_resample)\n",
    "logreg.score(X_test, y_test)"
   ]
  },
  {
   "cell_type": "code",
   "execution_count": 18,
   "metadata": {},
   "outputs": [
    {
     "data": {
      "text/plain": [
       "0.796380752902492"
      ]
     },
     "execution_count": 18,
     "metadata": {},
     "output_type": "execute_result"
    }
   ],
   "source": [
    "auc_score(logreg)"
   ]
  },
  {
   "cell_type": "code",
   "execution_count": 19,
   "metadata": {},
   "outputs": [
    {
     "data": {
      "text/plain": [
       "0.7076513132851161"
      ]
     },
     "execution_count": 19,
     "metadata": {},
     "output_type": "execute_result"
    }
   ],
   "source": [
    "logreg_scaled = LogisticRegression()\n",
    "logreg_scaled.fit(X_scaled_res, y_scaled_res)\n",
    "logreg_scaled.score(X_scaled_test, y_scaled_test)"
   ]
  },
  {
   "cell_type": "code",
   "execution_count": 20,
   "metadata": {},
   "outputs": [
    {
     "data": {
      "text/plain": [
       "0.4760438836525793"
      ]
     },
     "execution_count": 20,
     "metadata": {},
     "output_type": "execute_result"
    }
   ],
   "source": [
    "auc_score(logreg_scaled, scaled=True)"
   ]
  },
  {
   "cell_type": "markdown",
   "metadata": {},
   "source": [
    "## Support Vector Classifier"
   ]
  },
  {
   "cell_type": "code",
   "execution_count": 69,
   "metadata": {},
   "outputs": [
    {
     "data": {
      "text/plain": [
       "0.704225352112676"
      ]
     },
     "execution_count": 69,
     "metadata": {},
     "output_type": "execute_result"
    }
   ],
   "source": [
    "svc = SVC(kernel='linear', probability=True)\n",
    "svc.fit(X_resample, y_resample)\n",
    "svc.score(X_test, y_test)"
   ]
  },
  {
   "cell_type": "code",
   "execution_count": 70,
   "metadata": {},
   "outputs": [
    {
     "data": {
      "text/plain": [
       "0.7940047070481854"
      ]
     },
     "execution_count": 70,
     "metadata": {},
     "output_type": "execute_result"
    }
   ],
   "source": [
    "auc_score(svc)"
   ]
  },
  {
   "cell_type": "code",
   "execution_count": 71,
   "metadata": {},
   "outputs": [
    {
     "data": {
      "text/plain": [
       "0.6947087933003426"
      ]
     },
     "execution_count": 71,
     "metadata": {},
     "output_type": "execute_result"
    }
   ],
   "source": [
    "svc_scaled = SVC(kernel='linear', probability=True)\n",
    "svc_scaled.fit(X_scaled_res, y_scaled_res)\n",
    "svc_scaled.score(X_scaled_test, y_scaled_test)"
   ]
  },
  {
   "cell_type": "code",
   "execution_count": 72,
   "metadata": {},
   "outputs": [
    {
     "data": {
      "text/plain": [
       "0.47416331655462096"
      ]
     },
     "execution_count": 72,
     "metadata": {},
     "output_type": "execute_result"
    }
   ],
   "source": [
    "auc_score(svc_scaled, scaled=True)"
   ]
  },
  {
   "cell_type": "markdown",
   "metadata": {},
   "source": [
    "## XGBoost"
   ]
  },
  {
   "cell_type": "code",
   "execution_count": 25,
   "metadata": {},
   "outputs": [],
   "source": [
    "# XGBoost does not like that X_test is still a DataFrame but X_resample\n",
    "# is a numpy array. Convert X_resample to a DataFrame for simplicity.\n",
    "X_resample = pd.DataFrame(X_resample, columns=X_train.columns)"
   ]
  },
  {
   "cell_type": "code",
   "execution_count": 26,
   "metadata": {},
   "outputs": [
    {
     "name": "stderr",
     "output_type": "stream",
     "text": [
      "/Applications/anaconda3/lib/python3.6/site-packages/sklearn/preprocessing/label.py:151: DeprecationWarning: The truth value of an empty array is ambiguous. Returning False, but in future this will result in an error. Use `array.size > 0` to check that an array is not empty.\n",
      "  if diff:\n"
     ]
    },
    {
     "data": {
      "text/plain": [
       "0.8549676437000381"
      ]
     },
     "execution_count": 26,
     "metadata": {},
     "output_type": "execute_result"
    }
   ],
   "source": [
    "model = XGBClassifier()\n",
    "xgm = model.fit(X_resample, y_resample, eval_metric=roc_auc_score)\n",
    "xgm.score(X_test, y_test)"
   ]
  },
  {
   "cell_type": "code",
   "execution_count": 27,
   "metadata": {},
   "outputs": [
    {
     "data": {
      "text/plain": [
       "0.8281237683411596"
      ]
     },
     "execution_count": 27,
     "metadata": {},
     "output_type": "execute_result"
    }
   ],
   "source": [
    "auc_score(xgm)"
   ]
  },
  {
   "cell_type": "code",
   "execution_count": 28,
   "metadata": {},
   "outputs": [],
   "source": [
    "X_scaled_res = pd.DataFrame(X_scaled_res, columns=X_train.columns)"
   ]
  },
  {
   "cell_type": "code",
   "execution_count": 29,
   "metadata": {},
   "outputs": [
    {
     "name": "stderr",
     "output_type": "stream",
     "text": [
      "/Applications/anaconda3/lib/python3.6/site-packages/sklearn/preprocessing/label.py:151: DeprecationWarning: The truth value of an empty array is ambiguous. Returning False, but in future this will result in an error. Use `array.size > 0` to check that an array is not empty.\n",
      "  if diff:\n"
     ]
    },
    {
     "data": {
      "text/plain": [
       "0.825656642558051"
      ]
     },
     "execution_count": 29,
     "metadata": {},
     "output_type": "execute_result"
    }
   ],
   "source": [
    "model = XGBClassifier()\n",
    "xgm_scaled = model.fit(X_scaled_res, y_scaled_res, eval_metric=roc_auc_score)\n",
    "xgm_scaled.score(X_scaled_test, y_scaled_test)"
   ]
  },
  {
   "cell_type": "code",
   "execution_count": 30,
   "metadata": {},
   "outputs": [
    {
     "data": {
      "text/plain": [
       "0.48321424951859737"
      ]
     },
     "execution_count": 30,
     "metadata": {},
     "output_type": "execute_result"
    }
   ],
   "source": [
    "auc_score(xgm_scaled, scaled=True)"
   ]
  },
  {
   "cell_type": "markdown",
   "metadata": {},
   "source": [
    "## Adaboost"
   ]
  },
  {
   "cell_type": "code",
   "execution_count": 31,
   "metadata": {},
   "outputs": [
    {
     "data": {
      "text/plain": [
       "0.8237533307955843"
      ]
     },
     "execution_count": 31,
     "metadata": {},
     "output_type": "execute_result"
    }
   ],
   "source": [
    "ada = AdaBoostClassifier(DecisionTreeClassifier(max_depth=1),\n",
    "                         algorithm=\"SAMME\",\n",
    "                         n_estimators=200)\n",
    "ada.fit(X_resample, y_resample)\n",
    "ada.score(X_test, y_test)"
   ]
  },
  {
   "cell_type": "code",
   "execution_count": 32,
   "metadata": {},
   "outputs": [
    {
     "data": {
      "text/plain": [
       "0.7967636228505793"
      ]
     },
     "execution_count": 32,
     "metadata": {},
     "output_type": "execute_result"
    }
   ],
   "source": [
    "auc_score(ada)"
   ]
  },
  {
   "cell_type": "markdown",
   "metadata": {},
   "source": [
    "## Creating Submissions"
   ]
  },
  {
   "cell_type": "code",
   "execution_count": 33,
   "metadata": {},
   "outputs": [],
   "source": [
    "def get_name(func):\n",
    "    name = str(func.__class__)\n",
    "    dot_index = name.count('.')\n",
    "    dot_count = 0\n",
    "    new_name = ''\n",
    "    for char in name:\n",
    "        if char == '.':\n",
    "            dot_count += 1\n",
    "        if dot_count == dot_index:\n",
    "            new_name += char\n",
    "    return f'{new_name[1:-2]}_'"
   ]
  },
  {
   "cell_type": "code",
   "execution_count": 34,
   "metadata": {},
   "outputs": [],
   "source": [
    "def create_filename(model, scaled=False):\n",
    "    model_name = get_name(model)\n",
    "    is_scaled = 'scaled_' if scaled else 'unscaled_'\n",
    "    name = f'{model_name}{is_scaled}submission'\n",
    "    prev_files = listdir('../submissions')\n",
    "    count = sum([1 for file in prev_files if name in file])\n",
    "    num = f'_{count}' if count else ''\n",
    "    return f'{name}{num}.csv'"
   ]
  },
  {
   "cell_type": "code",
   "execution_count": 35,
   "metadata": {},
   "outputs": [],
   "source": [
    "def create_submission(model, scaled=False):\n",
    "    preds = model.predict_proba(test)[:,1]\n",
    "    ID = ids.astype('int32').reset_index(drop=True)\n",
    "    df = pd.DataFrame({'Id': ID, 'WnvPresent': preds})\n",
    "    filename = create_filename(model, scaled=scaled)\n",
    "    df.to_csv(f'../submissions/{filename}', index=False)\n",
    "    print(f'{filename} was created and saved in the submissions folder.')\n",
    "    return df.head()"
   ]
  },
  {
   "cell_type": "code",
   "execution_count": 36,
   "metadata": {},
   "outputs": [
    {
     "name": "stdout",
     "output_type": "stream",
     "text": [
      "AdaBoostClassifier_unscaled_submission_1.csv was created and saved in the submissions folder.\n"
     ]
    },
    {
     "data": {
      "text/html": [
       "<div>\n",
       "<style scoped>\n",
       "    .dataframe tbody tr th:only-of-type {\n",
       "        vertical-align: middle;\n",
       "    }\n",
       "\n",
       "    .dataframe tbody tr th {\n",
       "        vertical-align: top;\n",
       "    }\n",
       "\n",
       "    .dataframe thead th {\n",
       "        text-align: right;\n",
       "    }\n",
       "</style>\n",
       "<table border=\"1\" class=\"dataframe\">\n",
       "  <thead>\n",
       "    <tr style=\"text-align: right;\">\n",
       "      <th></th>\n",
       "      <th>Id</th>\n",
       "      <th>WnvPresent</th>\n",
       "    </tr>\n",
       "  </thead>\n",
       "  <tbody>\n",
       "    <tr>\n",
       "      <th>0</th>\n",
       "      <td>1</td>\n",
       "      <td>0.456754</td>\n",
       "    </tr>\n",
       "    <tr>\n",
       "      <th>1</th>\n",
       "      <td>2</td>\n",
       "      <td>0.441813</td>\n",
       "    </tr>\n",
       "    <tr>\n",
       "      <th>2</th>\n",
       "      <td>3</td>\n",
       "      <td>0.456603</td>\n",
       "    </tr>\n",
       "    <tr>\n",
       "      <th>3</th>\n",
       "      <td>4</td>\n",
       "      <td>0.435192</td>\n",
       "    </tr>\n",
       "    <tr>\n",
       "      <th>4</th>\n",
       "      <td>5</td>\n",
       "      <td>0.435192</td>\n",
       "    </tr>\n",
       "  </tbody>\n",
       "</table>\n",
       "</div>"
      ],
      "text/plain": [
       "   Id  WnvPresent\n",
       "0   1    0.456754\n",
       "1   2    0.441813\n",
       "2   3    0.456603\n",
       "3   4    0.435192\n",
       "4   5    0.435192"
      ]
     },
     "execution_count": 36,
     "metadata": {},
     "output_type": "execute_result"
    }
   ],
   "source": [
    "create_submission(ada)"
   ]
  },
  {
   "cell_type": "markdown",
   "metadata": {},
   "source": [
    "## Visuals, Feature Importances, and Coefficients"
   ]
  },
  {
   "cell_type": "code",
   "execution_count": 37,
   "metadata": {},
   "outputs": [],
   "source": [
    "# Credit to this medium article: https://medium.com/@aneesha/visualising-top-features-\n",
    "# in-linear-svm-with-scikit-learn-and-matplotlib-3454ab18a14d\n",
    "def plot_coefficients(classifier, feature_names, top_features=10):\n",
    "    coef = classifier.coef_.ravel()\n",
    "    top_positive_coefficients = np.argsort(coef)[-top_features:]\n",
    "    top_negative_coefficients = np.argsort(coef)[:top_features]\n",
    "    top_coefficients = np.hstack([top_negative_coefficients, top_positive_coefficients])\n",
    "    # Plot them thangs. \n",
    "    plt.figure(figsize=(15, 5))\n",
    "    colors = ['red' if c < 0 else 'blue' for c in coef[top_coefficients]]\n",
    "    plt.bar(np.arange(2 * top_features), coef[top_coefficients], color=colors)\n",
    "    feature_names = np.array(feature_names)\n",
    "    plt.xticks(\n",
    "        np.arange(0, 2 * top_features),\n",
    "        feature_names[top_coefficients],\n",
    "        rotation=60, ha='right')"
   ]
  },
  {
   "cell_type": "code",
   "execution_count": 73,
   "metadata": {},
   "outputs": [
    {
     "data": {
      "image/png": "[encoded data removed]",
      "text/plain": [
       "<Figure size 1080x360 with 1 Axes>"
      ]
     },
     "metadata": {},
     "output_type": "display_data"
    }
   ],
   "source": [
    "plot_coefficients(svc, X_train.columns)"
   ]
  },
  {
   "cell_type": "code",
   "execution_count": 68,
   "metadata": {
    "scrolled": true
   },
   "outputs": [
    {
     "data": {
      "text/plain": [
       "[(-4.6839858164141335, 'Tavg_s2'),\n",
       " (-4.51331906957432, 'Heat_s1'),\n",
       " (-3.5144978389653008, 'Heat_s2'),\n",
       " (-3.3068166999759283, 'Tavg_s1'),\n",
       " (-3.034852998958698, 'Longitude'),\n",
       " (-2.035290994821143, 'SeaLevel_s1'),\n",
       " (-1.5542763096637517, 'SeaLevel_s2'),\n",
       " (-1.2314791692551175, 'PrecipTotal_s1'),\n",
       " (-0.917125417795727, 'StnPressure_s1'),\n",
       " (-0.9149698467332866, 'Latitude'),\n",
       " (-0.7063998336195334, 'DewPoint_s2'),\n",
       " (-0.6710954344288655, 'Species'),\n",
       " (-0.581332963315073, 'ResultSpeed_s2'),\n",
       " (-0.5799225804696022, 'AvgSpeed_s1'),\n",
       " (-0.5273931704776295, 'Depart'),\n",
       " (-0.4829733440704032, 'SunriseHour'),\n",
       " (-0.32603457213371057, 'SunsetHour'),\n",
       " (-0.20346024274401422, 'Tmin_s1'),\n",
       " (-0.09722292694770276, 'ResultDir_s2'),\n",
       " (-0.06347752491046274, 'Month'),\n",
       " (-0.029417540137917784, 'Tmax_s2'),\n",
       " (-0.018867172110117007, 'Tmax_s1'),\n",
       " (-0.014787555117623153, 'SunriseMinute'),\n",
       " (-0.009297202350398113, 'SunsetMinute'),\n",
       " (0.0013921044239391812, 'Trap'),\n",
       " (0.002313143494241399, 'Block'),\n",
       " (0.004424602203325849, 'StnPressure_s2'),\n",
       " (0.06658935152698758, 'DewPoint_s1'),\n",
       " (0.08533814574356953, 'ResultDir_s1'),\n",
       " (0.13452985939321727, 'Weekday'),\n",
       " (0.18501777770742966, 'Year'),\n",
       " (0.2841604237331192, 'Tmin_s2'),\n",
       " (0.5053787420429223, 'WetBulb_s1'),\n",
       " (0.556152977243535, 'ResultSpeed_s1'),\n",
       " (0.6146535860809229, 'WetBulb_s2'),\n",
       " (0.7065409344062636, 'AvgSpeed_s2'),\n",
       " (0.8333108419246067, 'Week'),\n",
       " (1.5516968052049451, 'PrecipTotal_s2'),\n",
       " (3.8996716806872636, 'Cool_s2'),\n",
       " (4.278019566307109, 'Cool_s1')]"
      ]
     },
     "execution_count": 68,
     "metadata": {},
     "output_type": "execute_result"
    }
   ],
   "source": [
    "sorted(list(zip(*logreg.coef_, X_train.columns)))"
   ]
  },
  {
   "cell_type": "code",
   "execution_count": 39,
   "metadata": {},
   "outputs": [
    {
     "data": {
      "image/png": "[encoded data removed]",
      "text/plain": [
       "<Figure size 1080x360 with 1 Axes>"
      ]
     },
     "metadata": {},
     "output_type": "display_data"
    }
   ],
   "source": [
    "plot_coefficients(logreg, X_train.columns)"
   ]
  },
  {
   "cell_type": "code",
   "execution_count": 40,
   "metadata": {},
   "outputs": [],
   "source": [
    "def plot_importances(classifier, feature_names, top_features=10, tree_based=False):\n",
    "    coef = classifier.feature_importances_.ravel()\n",
    "    top_importances = np.argsort(coef)[-top_features:]\n",
    "    # create plot\n",
    "    plt.figure(figsize=(15, 5))\n",
    "    plt.bar(np.arange(top_features), coef[top_importances], color='blue')\n",
    "    feature_names = np.array(feature_names)\n",
    "    plt.xticks(\n",
    "        np.arange(0, top_features),\n",
    "        feature_names[top_importances],\n",
    "        rotation=60, ha='right')"
   ]
  },
  {
   "cell_type": "code",
   "execution_count": 41,
   "metadata": {},
   "outputs": [
    {
     "data": {
      "image/png": "[encoded data removed]",
      "text/plain": [
       "<Figure size 1080x360 with 1 Axes>"
      ]
     },
     "metadata": {},
     "output_type": "display_data"
    }
   ],
   "source": [
    "plot_importances(xgm, X_train.columns)"
   ]
  },
  {
   "cell_type": "code",
   "execution_count": 42,
   "metadata": {},
   "outputs": [
    {
     "data": {
      "image/png": "[encoded data removed]",
      "text/plain": [
       "<Figure size 1080x360 with 1 Axes>"
      ]
     },
     "metadata": {},
     "output_type": "display_data"
    }
   ],
   "source": [
    "plot_importances(rf, X_train.columns)"
   ]
  },
  {
   "cell_type": "code",
   "execution_count": 43,
   "metadata": {},
   "outputs": [
    {
     "data": {
      "image/png": "[encoded data removed]",
      "text/plain": [
       "<Figure size 1080x360 with 1 Axes>"
      ]
     },
     "metadata": {},
     "output_type": "display_data"
    }
   ],
   "source": [
    "plot_importances(ada, X_train.columns)"
   ]
  },
  {
   "cell_type": "markdown",
   "metadata": {},
   "source": [
    "## Confusion Matrices"
   ]
  },
  {
   "cell_type": "code",
   "execution_count": 44,
   "metadata": {},
   "outputs": [],
   "source": [
    "def confusion_metrics(row):\n",
    "    \n",
    "    if row['WnvPresent'] == 1.0 and row['predicted_label'] == 1.0:\n",
    "        row['confusion_metric'] = \"True Positive\"\n",
    "    if row['WnvPresent'] == 1.0 and row['predicted_label'] == 0.0:\n",
    "        row['confusion_metric'] = \"False Negative\"\n",
    "        \n",
    "    if row['WnvPresent'] == 0.0 and row['predicted_label'] == 0.0:\n",
    "        row['confusion_metric'] = \"True Negative\"\n",
    "    if row['WnvPresent'] == 0.0 and row['predicted_label'] == 1.0:\n",
    "        row['confusion_metric'] = \"False Positive\"\n",
    "        \n",
    "    return row"
   ]
  },
  {
   "cell_type": "code",
   "execution_count": 45,
   "metadata": {},
   "outputs": [
    {
     "data": {
      "text/html": [
       "<div>\n",
       "<style scoped>\n",
       "    .dataframe tbody tr th:only-of-type {\n",
       "        vertical-align: middle;\n",
       "    }\n",
       "\n",
       "    .dataframe tbody tr th {\n",
       "        vertical-align: top;\n",
       "    }\n",
       "\n",
       "    .dataframe thead th {\n",
       "        text-align: right;\n",
       "    }\n",
       "</style>\n",
       "<table border=\"1\" class=\"dataframe\">\n",
       "  <thead>\n",
       "    <tr style=\"text-align: right;\">\n",
       "      <th></th>\n",
       "      <th>predicted_label</th>\n",
       "      <th>WnvPresent</th>\n",
       "      <th>predicted_proba</th>\n",
       "    </tr>\n",
       "  </thead>\n",
       "  <tbody>\n",
       "    <tr>\n",
       "      <th>2617</th>\n",
       "      <td>0.0</td>\n",
       "      <td>0.0</td>\n",
       "      <td>0.004000</td>\n",
       "    </tr>\n",
       "    <tr>\n",
       "      <th>2618</th>\n",
       "      <td>0.0</td>\n",
       "      <td>0.0</td>\n",
       "      <td>0.000000</td>\n",
       "    </tr>\n",
       "    <tr>\n",
       "      <th>2619</th>\n",
       "      <td>0.0</td>\n",
       "      <td>0.0</td>\n",
       "      <td>0.000000</td>\n",
       "    </tr>\n",
       "    <tr>\n",
       "      <th>2620</th>\n",
       "      <td>0.0</td>\n",
       "      <td>1.0</td>\n",
       "      <td>0.000000</td>\n",
       "    </tr>\n",
       "    <tr>\n",
       "      <th>2621</th>\n",
       "      <td>0.0</td>\n",
       "      <td>0.0</td>\n",
       "      <td>0.000000</td>\n",
       "    </tr>\n",
       "    <tr>\n",
       "      <th>2622</th>\n",
       "      <td>0.0</td>\n",
       "      <td>0.0</td>\n",
       "      <td>0.000000</td>\n",
       "    </tr>\n",
       "    <tr>\n",
       "      <th>2623</th>\n",
       "      <td>0.0</td>\n",
       "      <td>0.0</td>\n",
       "      <td>0.003500</td>\n",
       "    </tr>\n",
       "    <tr>\n",
       "      <th>2624</th>\n",
       "      <td>0.0</td>\n",
       "      <td>0.0</td>\n",
       "      <td>0.217997</td>\n",
       "    </tr>\n",
       "    <tr>\n",
       "      <th>2625</th>\n",
       "      <td>0.0</td>\n",
       "      <td>0.0</td>\n",
       "      <td>0.012693</td>\n",
       "    </tr>\n",
       "    <tr>\n",
       "      <th>2626</th>\n",
       "      <td>0.0</td>\n",
       "      <td>0.0</td>\n",
       "      <td>0.001000</td>\n",
       "    </tr>\n",
       "  </tbody>\n",
       "</table>\n",
       "</div>"
      ],
      "text/plain": [
       "      predicted_label  WnvPresent  predicted_proba\n",
       "2617              0.0         0.0         0.004000\n",
       "2618              0.0         0.0         0.000000\n",
       "2619              0.0         0.0         0.000000\n",
       "2620              0.0         1.0         0.000000\n",
       "2621              0.0         0.0         0.000000\n",
       "2622              0.0         0.0         0.000000\n",
       "2623              0.0         0.0         0.003500\n",
       "2624              0.0         0.0         0.217997\n",
       "2625              0.0         0.0         0.012693\n",
       "2626              0.0         0.0         0.001000"
      ]
     },
     "execution_count": 45,
     "metadata": {},
     "output_type": "execute_result"
    }
   ],
   "source": [
    "rf_df = pd.DataFrame(rf.predict(X_test), columns=['predicted_label'])\n",
    "rf_df['WnvPresent'] = y_test.reset_index(drop=True)\n",
    "rf_df['predicted_proba'] = rf.predict_proba(X_test)[:,1]\n",
    "rf_df.tail(10)"
   ]
  },
  {
   "cell_type": "code",
   "execution_count": 47,
   "metadata": {},
   "outputs": [
    {
     "data": {
      "text/html": [
       "<div>\n",
       "<style scoped>\n",
       "    .dataframe tbody tr th:only-of-type {\n",
       "        vertical-align: middle;\n",
       "    }\n",
       "\n",
       "    .dataframe tbody tr th {\n",
       "        vertical-align: top;\n",
       "    }\n",
       "\n",
       "    .dataframe thead th {\n",
       "        text-align: right;\n",
       "    }\n",
       "</style>\n",
       "<table border=\"1\" class=\"dataframe\">\n",
       "  <thead>\n",
       "    <tr style=\"text-align: right;\">\n",
       "      <th></th>\n",
       "      <th>predicted_label</th>\n",
       "      <th>WnvPresent</th>\n",
       "      <th>predicted_proba</th>\n",
       "    </tr>\n",
       "  </thead>\n",
       "  <tbody>\n",
       "    <tr>\n",
       "      <th>2617</th>\n",
       "      <td>0.0</td>\n",
       "      <td>0.0</td>\n",
       "      <td>0.341486</td>\n",
       "    </tr>\n",
       "    <tr>\n",
       "      <th>2618</th>\n",
       "      <td>0.0</td>\n",
       "      <td>0.0</td>\n",
       "      <td>0.294743</td>\n",
       "    </tr>\n",
       "    <tr>\n",
       "      <th>2619</th>\n",
       "      <td>0.0</td>\n",
       "      <td>0.0</td>\n",
       "      <td>0.000176</td>\n",
       "    </tr>\n",
       "    <tr>\n",
       "      <th>2620</th>\n",
       "      <td>1.0</td>\n",
       "      <td>1.0</td>\n",
       "      <td>0.637479</td>\n",
       "    </tr>\n",
       "    <tr>\n",
       "      <th>2621</th>\n",
       "      <td>0.0</td>\n",
       "      <td>0.0</td>\n",
       "      <td>0.005564</td>\n",
       "    </tr>\n",
       "    <tr>\n",
       "      <th>2622</th>\n",
       "      <td>0.0</td>\n",
       "      <td>0.0</td>\n",
       "      <td>0.025101</td>\n",
       "    </tr>\n",
       "    <tr>\n",
       "      <th>2623</th>\n",
       "      <td>0.0</td>\n",
       "      <td>0.0</td>\n",
       "      <td>0.100957</td>\n",
       "    </tr>\n",
       "    <tr>\n",
       "      <th>2624</th>\n",
       "      <td>0.0</td>\n",
       "      <td>0.0</td>\n",
       "      <td>0.219089</td>\n",
       "    </tr>\n",
       "    <tr>\n",
       "      <th>2625</th>\n",
       "      <td>0.0</td>\n",
       "      <td>0.0</td>\n",
       "      <td>0.424068</td>\n",
       "    </tr>\n",
       "    <tr>\n",
       "      <th>2626</th>\n",
       "      <td>1.0</td>\n",
       "      <td>0.0</td>\n",
       "      <td>0.691023</td>\n",
       "    </tr>\n",
       "  </tbody>\n",
       "</table>\n",
       "</div>"
      ],
      "text/plain": [
       "      predicted_label  WnvPresent  predicted_proba\n",
       "2617              0.0         0.0         0.341486\n",
       "2618              0.0         0.0         0.294743\n",
       "2619              0.0         0.0         0.000176\n",
       "2620              1.0         1.0         0.637479\n",
       "2621              0.0         0.0         0.005564\n",
       "2622              0.0         0.0         0.025101\n",
       "2623              0.0         0.0         0.100957\n",
       "2624              0.0         0.0         0.219089\n",
       "2625              0.0         0.0         0.424068\n",
       "2626              1.0         0.0         0.691023"
      ]
     },
     "execution_count": 47,
     "metadata": {},
     "output_type": "execute_result"
    }
   ],
   "source": [
    "logreg_df = pd.DataFrame(logreg.predict(X_test), columns=['predicted_label'])\n",
    "logreg_df['WnvPresent'] = y_test.reset_index(drop=True)\n",
    "logreg_df['predicted_proba'] = logreg.predict_proba(X_test)[:,1]\n",
    "logreg_df.tail(10)"
   ]
  },
  {
   "cell_type": "code",
   "execution_count": 49,
   "metadata": {},
   "outputs": [
    {
     "name": "stderr",
     "output_type": "stream",
     "text": [
      "/Applications/anaconda3/lib/python3.6/site-packages/sklearn/preprocessing/label.py:151: DeprecationWarning: The truth value of an empty array is ambiguous. Returning False, but in future this will result in an error. Use `array.size > 0` to check that an array is not empty.\n",
      "  if diff:\n"
     ]
    },
    {
     "data": {
      "text/html": [
       "<div>\n",
       "<style scoped>\n",
       "    .dataframe tbody tr th:only-of-type {\n",
       "        vertical-align: middle;\n",
       "    }\n",
       "\n",
       "    .dataframe tbody tr th {\n",
       "        vertical-align: top;\n",
       "    }\n",
       "\n",
       "    .dataframe thead th {\n",
       "        text-align: right;\n",
       "    }\n",
       "</style>\n",
       "<table border=\"1\" class=\"dataframe\">\n",
       "  <thead>\n",
       "    <tr style=\"text-align: right;\">\n",
       "      <th></th>\n",
       "      <th>predicted_label</th>\n",
       "      <th>WnvPresent</th>\n",
       "      <th>predicted_proba</th>\n",
       "    </tr>\n",
       "  </thead>\n",
       "  <tbody>\n",
       "    <tr>\n",
       "      <th>2617</th>\n",
       "      <td>0.0</td>\n",
       "      <td>0.0</td>\n",
       "      <td>0.144459</td>\n",
       "    </tr>\n",
       "    <tr>\n",
       "      <th>2618</th>\n",
       "      <td>0.0</td>\n",
       "      <td>0.0</td>\n",
       "      <td>0.094848</td>\n",
       "    </tr>\n",
       "    <tr>\n",
       "      <th>2619</th>\n",
       "      <td>0.0</td>\n",
       "      <td>0.0</td>\n",
       "      <td>0.013138</td>\n",
       "    </tr>\n",
       "    <tr>\n",
       "      <th>2620</th>\n",
       "      <td>0.0</td>\n",
       "      <td>1.0</td>\n",
       "      <td>0.403697</td>\n",
       "    </tr>\n",
       "    <tr>\n",
       "      <th>2621</th>\n",
       "      <td>0.0</td>\n",
       "      <td>0.0</td>\n",
       "      <td>0.007651</td>\n",
       "    </tr>\n",
       "    <tr>\n",
       "      <th>2622</th>\n",
       "      <td>0.0</td>\n",
       "      <td>0.0</td>\n",
       "      <td>0.003857</td>\n",
       "    </tr>\n",
       "    <tr>\n",
       "      <th>2623</th>\n",
       "      <td>0.0</td>\n",
       "      <td>0.0</td>\n",
       "      <td>0.044088</td>\n",
       "    </tr>\n",
       "    <tr>\n",
       "      <th>2624</th>\n",
       "      <td>0.0</td>\n",
       "      <td>0.0</td>\n",
       "      <td>0.164682</td>\n",
       "    </tr>\n",
       "    <tr>\n",
       "      <th>2625</th>\n",
       "      <td>0.0</td>\n",
       "      <td>0.0</td>\n",
       "      <td>0.219074</td>\n",
       "    </tr>\n",
       "    <tr>\n",
       "      <th>2626</th>\n",
       "      <td>0.0</td>\n",
       "      <td>0.0</td>\n",
       "      <td>0.097900</td>\n",
       "    </tr>\n",
       "  </tbody>\n",
       "</table>\n",
       "</div>"
      ],
      "text/plain": [
       "      predicted_label  WnvPresent  predicted_proba\n",
       "2617              0.0         0.0         0.144459\n",
       "2618              0.0         0.0         0.094848\n",
       "2619              0.0         0.0         0.013138\n",
       "2620              0.0         1.0         0.403697\n",
       "2621              0.0         0.0         0.007651\n",
       "2622              0.0         0.0         0.003857\n",
       "2623              0.0         0.0         0.044088\n",
       "2624              0.0         0.0         0.164682\n",
       "2625              0.0         0.0         0.219074\n",
       "2626              0.0         0.0         0.097900"
      ]
     },
     "execution_count": 49,
     "metadata": {},
     "output_type": "execute_result"
    }
   ],
   "source": [
    "xgm_df = pd.DataFrame(xgm.predict(X_test), columns=['predicted_label'])\n",
    "xgm_df['WnvPresent'] = y_test.reset_index(drop=True)\n",
    "xgm_df['predicted_proba'] = xgm.predict_proba(X_test)[:,1]\n",
    "xgm_df.tail(10)"
   ]
  },
  {
   "cell_type": "code",
   "execution_count": 50,
   "metadata": {},
   "outputs": [
    {
     "data": {
      "text/html": [
       "<div>\n",
       "<style scoped>\n",
       "    .dataframe tbody tr th:only-of-type {\n",
       "        vertical-align: middle;\n",
       "    }\n",
       "\n",
       "    .dataframe tbody tr th {\n",
       "        vertical-align: top;\n",
       "    }\n",
       "\n",
       "    .dataframe thead th {\n",
       "        text-align: right;\n",
       "    }\n",
       "</style>\n",
       "<table border=\"1\" class=\"dataframe\">\n",
       "  <thead>\n",
       "    <tr style=\"text-align: right;\">\n",
       "      <th></th>\n",
       "      <th>predicted_label</th>\n",
       "      <th>WnvPresent</th>\n",
       "      <th>predicted_proba</th>\n",
       "    </tr>\n",
       "  </thead>\n",
       "  <tbody>\n",
       "    <tr>\n",
       "      <th>2617</th>\n",
       "      <td>0.0</td>\n",
       "      <td>0.0</td>\n",
       "      <td>0.483248</td>\n",
       "    </tr>\n",
       "    <tr>\n",
       "      <th>2618</th>\n",
       "      <td>0.0</td>\n",
       "      <td>0.0</td>\n",
       "      <td>0.481683</td>\n",
       "    </tr>\n",
       "    <tr>\n",
       "      <th>2619</th>\n",
       "      <td>0.0</td>\n",
       "      <td>0.0</td>\n",
       "      <td>0.439956</td>\n",
       "    </tr>\n",
       "    <tr>\n",
       "      <th>2620</th>\n",
       "      <td>0.0</td>\n",
       "      <td>1.0</td>\n",
       "      <td>0.491803</td>\n",
       "    </tr>\n",
       "    <tr>\n",
       "      <th>2621</th>\n",
       "      <td>0.0</td>\n",
       "      <td>0.0</td>\n",
       "      <td>0.444969</td>\n",
       "    </tr>\n",
       "    <tr>\n",
       "      <th>2622</th>\n",
       "      <td>0.0</td>\n",
       "      <td>0.0</td>\n",
       "      <td>0.456001</td>\n",
       "    </tr>\n",
       "    <tr>\n",
       "      <th>2623</th>\n",
       "      <td>0.0</td>\n",
       "      <td>0.0</td>\n",
       "      <td>0.480337</td>\n",
       "    </tr>\n",
       "    <tr>\n",
       "      <th>2624</th>\n",
       "      <td>0.0</td>\n",
       "      <td>0.0</td>\n",
       "      <td>0.492147</td>\n",
       "    </tr>\n",
       "    <tr>\n",
       "      <th>2625</th>\n",
       "      <td>0.0</td>\n",
       "      <td>0.0</td>\n",
       "      <td>0.491973</td>\n",
       "    </tr>\n",
       "    <tr>\n",
       "      <th>2626</th>\n",
       "      <td>0.0</td>\n",
       "      <td>0.0</td>\n",
       "      <td>0.482821</td>\n",
       "    </tr>\n",
       "  </tbody>\n",
       "</table>\n",
       "</div>"
      ],
      "text/plain": [
       "      predicted_label  WnvPresent  predicted_proba\n",
       "2617              0.0         0.0         0.483248\n",
       "2618              0.0         0.0         0.481683\n",
       "2619              0.0         0.0         0.439956\n",
       "2620              0.0         1.0         0.491803\n",
       "2621              0.0         0.0         0.444969\n",
       "2622              0.0         0.0         0.456001\n",
       "2623              0.0         0.0         0.480337\n",
       "2624              0.0         0.0         0.492147\n",
       "2625              0.0         0.0         0.491973\n",
       "2626              0.0         0.0         0.482821"
      ]
     },
     "execution_count": 50,
     "metadata": {},
     "output_type": "execute_result"
    }
   ],
   "source": [
    "ada_df = pd.DataFrame(ada.predict(X_test), columns=['predicted_label'])\n",
    "ada_df['WnvPresent'] = y_test.reset_index(drop=True)\n",
    "ada_df['predicted_proba'] = ada.predict_proba(X_test)[:,1]\n",
    "ada_df.tail(10)"
   ]
  },
  {
   "cell_type": "code",
   "execution_count": 74,
   "metadata": {},
   "outputs": [
    {
     "data": {
      "text/html": [
       "<div>\n",
       "<style scoped>\n",
       "    .dataframe tbody tr th:only-of-type {\n",
       "        vertical-align: middle;\n",
       "    }\n",
       "\n",
       "    .dataframe tbody tr th {\n",
       "        vertical-align: top;\n",
       "    }\n",
       "\n",
       "    .dataframe thead th {\n",
       "        text-align: right;\n",
       "    }\n",
       "</style>\n",
       "<table border=\"1\" class=\"dataframe\">\n",
       "  <thead>\n",
       "    <tr style=\"text-align: right;\">\n",
       "      <th></th>\n",
       "      <th>predicted_label</th>\n",
       "      <th>WnvPresent</th>\n",
       "      <th>predicted_proba</th>\n",
       "    </tr>\n",
       "  </thead>\n",
       "  <tbody>\n",
       "    <tr>\n",
       "      <th>2617</th>\n",
       "      <td>0.0</td>\n",
       "      <td>0.0</td>\n",
       "      <td>0.379299</td>\n",
       "    </tr>\n",
       "    <tr>\n",
       "      <th>2618</th>\n",
       "      <td>0.0</td>\n",
       "      <td>0.0</td>\n",
       "      <td>0.336926</td>\n",
       "    </tr>\n",
       "    <tr>\n",
       "      <th>2619</th>\n",
       "      <td>0.0</td>\n",
       "      <td>0.0</td>\n",
       "      <td>0.000711</td>\n",
       "    </tr>\n",
       "    <tr>\n",
       "      <th>2620</th>\n",
       "      <td>1.0</td>\n",
       "      <td>1.0</td>\n",
       "      <td>0.679896</td>\n",
       "    </tr>\n",
       "    <tr>\n",
       "      <th>2621</th>\n",
       "      <td>0.0</td>\n",
       "      <td>0.0</td>\n",
       "      <td>0.025552</td>\n",
       "    </tr>\n",
       "    <tr>\n",
       "      <th>2622</th>\n",
       "      <td>0.0</td>\n",
       "      <td>0.0</td>\n",
       "      <td>0.025100</td>\n",
       "    </tr>\n",
       "    <tr>\n",
       "      <th>2623</th>\n",
       "      <td>0.0</td>\n",
       "      <td>0.0</td>\n",
       "      <td>0.156497</td>\n",
       "    </tr>\n",
       "    <tr>\n",
       "      <th>2624</th>\n",
       "      <td>0.0</td>\n",
       "      <td>0.0</td>\n",
       "      <td>0.092719</td>\n",
       "    </tr>\n",
       "    <tr>\n",
       "      <th>2625</th>\n",
       "      <td>0.0</td>\n",
       "      <td>0.0</td>\n",
       "      <td>0.415381</td>\n",
       "    </tr>\n",
       "    <tr>\n",
       "      <th>2626</th>\n",
       "      <td>1.0</td>\n",
       "      <td>0.0</td>\n",
       "      <td>0.560055</td>\n",
       "    </tr>\n",
       "  </tbody>\n",
       "</table>\n",
       "</div>"
      ],
      "text/plain": [
       "      predicted_label  WnvPresent  predicted_proba\n",
       "2617              0.0         0.0         0.379299\n",
       "2618              0.0         0.0         0.336926\n",
       "2619              0.0         0.0         0.000711\n",
       "2620              1.0         1.0         0.679896\n",
       "2621              0.0         0.0         0.025552\n",
       "2622              0.0         0.0         0.025100\n",
       "2623              0.0         0.0         0.156497\n",
       "2624              0.0         0.0         0.092719\n",
       "2625              0.0         0.0         0.415381\n",
       "2626              1.0         0.0         0.560055"
      ]
     },
     "execution_count": 74,
     "metadata": {},
     "output_type": "execute_result"
    }
   ],
   "source": [
    "svc_df = pd.DataFrame(svc.predict(X_test), columns=['predicted_label'])\n",
    "svc_df['WnvPresent'] = y_test.reset_index(drop=True)\n",
    "svc_df['predicted_proba'] = svc.predict_proba(X_test)[:,1]\n",
    "svc_df.tail(10)"
   ]
  },
  {
   "cell_type": "code",
   "execution_count": 51,
   "metadata": {},
   "outputs": [],
   "source": [
    "def get_metrics(df):\n",
    "    TP = df.loc['Actual Positive', 'Predicted Positive']\n",
    "    TN = df.loc['Actual Negative', 'Predicted Negative']\n",
    "    FP = df.loc['Actual Negative', 'Predicted Positive']\n",
    "    FN = df.loc['Actual Positive', 'Predicted Negative']\n",
    "    acc = (TP + TN) / (TP + FN + FP + TN)\n",
    "    miss = 1 - acc\n",
    "    recall = TP / (TP + FN)\n",
    "    spec = TN / (TN + FP)\n",
    "    prec = TP / (TP + FP)\n",
    "    index_names = ['Accuracy', \n",
    "                   'Misclassifaction Rate', \n",
    "                   'Sensitivity/Recall', \n",
    "                   'Specificity',\n",
    "                   'Precision']\n",
    "    df = pd.DataFrame({'Metrics': [acc, miss, recall, spec, prec]}, index=index_names)\n",
    "    return df"
   ]
  },
  {
   "cell_type": "code",
   "execution_count": 52,
   "metadata": {},
   "outputs": [
    {
     "data": {
      "text/html": [
       "<div>\n",
       "<style scoped>\n",
       "    .dataframe tbody tr th:only-of-type {\n",
       "        vertical-align: middle;\n",
       "    }\n",
       "\n",
       "    .dataframe tbody tr th {\n",
       "        vertical-align: top;\n",
       "    }\n",
       "\n",
       "    .dataframe thead th {\n",
       "        text-align: right;\n",
       "    }\n",
       "</style>\n",
       "<table border=\"1\" class=\"dataframe\">\n",
       "  <thead>\n",
       "    <tr style=\"text-align: right;\">\n",
       "      <th></th>\n",
       "      <th>Predicted Negative</th>\n",
       "      <th>Predicted Positive</th>\n",
       "    </tr>\n",
       "  </thead>\n",
       "  <tbody>\n",
       "    <tr>\n",
       "      <th>Actual Negative</th>\n",
       "      <td>2374</td>\n",
       "      <td>110</td>\n",
       "    </tr>\n",
       "    <tr>\n",
       "      <th>Actual Positive</th>\n",
       "      <td>101</td>\n",
       "      <td>42</td>\n",
       "    </tr>\n",
       "  </tbody>\n",
       "</table>\n",
       "</div>"
      ],
      "text/plain": [
       "                 Predicted Negative  Predicted Positive\n",
       "Actual Negative                2374                 110\n",
       "Actual Positive                 101                  42"
      ]
     },
     "execution_count": 52,
     "metadata": {},
     "output_type": "execute_result"
    }
   ],
   "source": [
    "rf_cm = rf_df.apply(confusion_metrics, axis=1)['confusion_metric'].value_counts().sort_index()\n",
    "rf_cm_df = pd.DataFrame({'Predicted Negative': [rf_cm[2], rf_cm[0]],\n",
    "                         'Predicted Positive': [rf_cm[1], rf_cm[3]]},\n",
    "                        index=['Actual Negative', 'Actual Positive'])\n",
    "rf_cm_df"
   ]
  },
  {
   "cell_type": "code",
   "execution_count": 53,
   "metadata": {},
   "outputs": [
    {
     "data": {
      "text/html": [
       "<div>\n",
       "<style scoped>\n",
       "    .dataframe tbody tr th:only-of-type {\n",
       "        vertical-align: middle;\n",
       "    }\n",
       "\n",
       "    .dataframe tbody tr th {\n",
       "        vertical-align: top;\n",
       "    }\n",
       "\n",
       "    .dataframe thead th {\n",
       "        text-align: right;\n",
       "    }\n",
       "</style>\n",
       "<table border=\"1\" class=\"dataframe\">\n",
       "  <thead>\n",
       "    <tr style=\"text-align: right;\">\n",
       "      <th></th>\n",
       "      <th>Metrics</th>\n",
       "    </tr>\n",
       "  </thead>\n",
       "  <tbody>\n",
       "    <tr>\n",
       "      <th>Accuracy</th>\n",
       "      <td>0.919680</td>\n",
       "    </tr>\n",
       "    <tr>\n",
       "      <th>Misclassifaction Rate</th>\n",
       "      <td>0.080320</td>\n",
       "    </tr>\n",
       "    <tr>\n",
       "      <th>Sensitivity/Recall</th>\n",
       "      <td>0.293706</td>\n",
       "    </tr>\n",
       "    <tr>\n",
       "      <th>Specificity</th>\n",
       "      <td>0.955717</td>\n",
       "    </tr>\n",
       "    <tr>\n",
       "      <th>Precision</th>\n",
       "      <td>0.276316</td>\n",
       "    </tr>\n",
       "  </tbody>\n",
       "</table>\n",
       "</div>"
      ],
      "text/plain": [
       "                        Metrics\n",
       "Accuracy               0.919680\n",
       "Misclassifaction Rate  0.080320\n",
       "Sensitivity/Recall     0.293706\n",
       "Specificity            0.955717\n",
       "Precision              0.276316"
      ]
     },
     "execution_count": 53,
     "metadata": {},
     "output_type": "execute_result"
    }
   ],
   "source": [
    "get_metrics(rf_cm_df)"
   ]
  },
  {
   "cell_type": "code",
   "execution_count": 54,
   "metadata": {},
   "outputs": [
    {
     "data": {
      "text/html": [
       "<div>\n",
       "<style scoped>\n",
       "    .dataframe tbody tr th:only-of-type {\n",
       "        vertical-align: middle;\n",
       "    }\n",
       "\n",
       "    .dataframe tbody tr th {\n",
       "        vertical-align: top;\n",
       "    }\n",
       "\n",
       "    .dataframe thead th {\n",
       "        text-align: right;\n",
       "    }\n",
       "</style>\n",
       "<table border=\"1\" class=\"dataframe\">\n",
       "  <thead>\n",
       "    <tr style=\"text-align: right;\">\n",
       "      <th></th>\n",
       "      <th>Predicted Negative</th>\n",
       "      <th>Predicted Positive</th>\n",
       "    </tr>\n",
       "  </thead>\n",
       "  <tbody>\n",
       "    <tr>\n",
       "      <th>Actual Negative</th>\n",
       "      <td>1728</td>\n",
       "      <td>756</td>\n",
       "    </tr>\n",
       "    <tr>\n",
       "      <th>Actual Positive</th>\n",
       "      <td>37</td>\n",
       "      <td>106</td>\n",
       "    </tr>\n",
       "  </tbody>\n",
       "</table>\n",
       "</div>"
      ],
      "text/plain": [
       "                 Predicted Negative  Predicted Positive\n",
       "Actual Negative                1728                 756\n",
       "Actual Positive                  37                 106"
      ]
     },
     "execution_count": 54,
     "metadata": {},
     "output_type": "execute_result"
    }
   ],
   "source": [
    "logreg_cm = logreg_df.apply(confusion_metrics, axis=1)['confusion_metric'].value_counts().sort_index()\n",
    "logreg_cm_df = pd.DataFrame({'Predicted Negative': [logreg_cm[2], logreg_cm[0]],\n",
    "                          'Predicted Positive': [logreg_cm[1], logreg_cm[3]]},\n",
    "                         index=['Actual Negative', 'Actual Positive'])\n",
    "logreg_cm_df"
   ]
  },
  {
   "cell_type": "code",
   "execution_count": 55,
   "metadata": {},
   "outputs": [
    {
     "data": {
      "text/html": [
       "<div>\n",
       "<style scoped>\n",
       "    .dataframe tbody tr th:only-of-type {\n",
       "        vertical-align: middle;\n",
       "    }\n",
       "\n",
       "    .dataframe tbody tr th {\n",
       "        vertical-align: top;\n",
       "    }\n",
       "\n",
       "    .dataframe thead th {\n",
       "        text-align: right;\n",
       "    }\n",
       "</style>\n",
       "<table border=\"1\" class=\"dataframe\">\n",
       "  <thead>\n",
       "    <tr style=\"text-align: right;\">\n",
       "      <th></th>\n",
       "      <th>Metrics</th>\n",
       "    </tr>\n",
       "  </thead>\n",
       "  <tbody>\n",
       "    <tr>\n",
       "      <th>Accuracy</th>\n",
       "      <td>0.698135</td>\n",
       "    </tr>\n",
       "    <tr>\n",
       "      <th>Misclassifaction Rate</th>\n",
       "      <td>0.301865</td>\n",
       "    </tr>\n",
       "    <tr>\n",
       "      <th>Sensitivity/Recall</th>\n",
       "      <td>0.741259</td>\n",
       "    </tr>\n",
       "    <tr>\n",
       "      <th>Specificity</th>\n",
       "      <td>0.695652</td>\n",
       "    </tr>\n",
       "    <tr>\n",
       "      <th>Precision</th>\n",
       "      <td>0.122970</td>\n",
       "    </tr>\n",
       "  </tbody>\n",
       "</table>\n",
       "</div>"
      ],
      "text/plain": [
       "                        Metrics\n",
       "Accuracy               0.698135\n",
       "Misclassifaction Rate  0.301865\n",
       "Sensitivity/Recall     0.741259\n",
       "Specificity            0.695652\n",
       "Precision              0.122970"
      ]
     },
     "execution_count": 55,
     "metadata": {},
     "output_type": "execute_result"
    }
   ],
   "source": [
    "get_metrics(logreg_cm_df)"
   ]
  },
  {
   "cell_type": "code",
   "execution_count": 56,
   "metadata": {},
   "outputs": [
    {
     "data": {
      "text/html": [
       "<div>\n",
       "<style scoped>\n",
       "    .dataframe tbody tr th:only-of-type {\n",
       "        vertical-align: middle;\n",
       "    }\n",
       "\n",
       "    .dataframe tbody tr th {\n",
       "        vertical-align: top;\n",
       "    }\n",
       "\n",
       "    .dataframe thead th {\n",
       "        text-align: right;\n",
       "    }\n",
       "</style>\n",
       "<table border=\"1\" class=\"dataframe\">\n",
       "  <thead>\n",
       "    <tr style=\"text-align: right;\">\n",
       "      <th></th>\n",
       "      <th>Predicted Negative</th>\n",
       "      <th>Predicted Positive</th>\n",
       "    </tr>\n",
       "  </thead>\n",
       "  <tbody>\n",
       "    <tr>\n",
       "      <th>Actual Negative</th>\n",
       "      <td>2166</td>\n",
       "      <td>318</td>\n",
       "    </tr>\n",
       "    <tr>\n",
       "      <th>Actual Positive</th>\n",
       "      <td>63</td>\n",
       "      <td>80</td>\n",
       "    </tr>\n",
       "  </tbody>\n",
       "</table>\n",
       "</div>"
      ],
      "text/plain": [
       "                 Predicted Negative  Predicted Positive\n",
       "Actual Negative                2166                 318\n",
       "Actual Positive                  63                  80"
      ]
     },
     "execution_count": 56,
     "metadata": {},
     "output_type": "execute_result"
    }
   ],
   "source": [
    "xgm_cm = xgm_df.apply(confusion_metrics, axis=1)['confusion_metric'].value_counts().sort_index()\n",
    "xgm_cm_df = pd.DataFrame({'Predicted Negative': [xgm_cm[2], xgm_cm[0]],\n",
    "                          'Predicted Positive': [xgm_cm[1], xgm_cm[3]]},\n",
    "                         index=['Actual Negative', 'Actual Positive'])\n",
    "xgm_cm_df"
   ]
  },
  {
   "cell_type": "code",
   "execution_count": 57,
   "metadata": {},
   "outputs": [
    {
     "data": {
      "text/html": [
       "<div>\n",
       "<style scoped>\n",
       "    .dataframe tbody tr th:only-of-type {\n",
       "        vertical-align: middle;\n",
       "    }\n",
       "\n",
       "    .dataframe tbody tr th {\n",
       "        vertical-align: top;\n",
       "    }\n",
       "\n",
       "    .dataframe thead th {\n",
       "        text-align: right;\n",
       "    }\n",
       "</style>\n",
       "<table border=\"1\" class=\"dataframe\">\n",
       "  <thead>\n",
       "    <tr style=\"text-align: right;\">\n",
       "      <th></th>\n",
       "      <th>Metrics</th>\n",
       "    </tr>\n",
       "  </thead>\n",
       "  <tbody>\n",
       "    <tr>\n",
       "      <th>Accuracy</th>\n",
       "      <td>0.854968</td>\n",
       "    </tr>\n",
       "    <tr>\n",
       "      <th>Misclassifaction Rate</th>\n",
       "      <td>0.145032</td>\n",
       "    </tr>\n",
       "    <tr>\n",
       "      <th>Sensitivity/Recall</th>\n",
       "      <td>0.559441</td>\n",
       "    </tr>\n",
       "    <tr>\n",
       "      <th>Specificity</th>\n",
       "      <td>0.871981</td>\n",
       "    </tr>\n",
       "    <tr>\n",
       "      <th>Precision</th>\n",
       "      <td>0.201005</td>\n",
       "    </tr>\n",
       "  </tbody>\n",
       "</table>\n",
       "</div>"
      ],
      "text/plain": [
       "                        Metrics\n",
       "Accuracy               0.854968\n",
       "Misclassifaction Rate  0.145032\n",
       "Sensitivity/Recall     0.559441\n",
       "Specificity            0.871981\n",
       "Precision              0.201005"
      ]
     },
     "execution_count": 57,
     "metadata": {},
     "output_type": "execute_result"
    }
   ],
   "source": [
    "get_metrics(xgm_cm_df)"
   ]
  },
  {
   "cell_type": "code",
   "execution_count": 58,
   "metadata": {},
   "outputs": [
    {
     "data": {
      "text/html": [
       "<div>\n",
       "<style scoped>\n",
       "    .dataframe tbody tr th:only-of-type {\n",
       "        vertical-align: middle;\n",
       "    }\n",
       "\n",
       "    .dataframe tbody tr th {\n",
       "        vertical-align: top;\n",
       "    }\n",
       "\n",
       "    .dataframe thead th {\n",
       "        text-align: right;\n",
       "    }\n",
       "</style>\n",
       "<table border=\"1\" class=\"dataframe\">\n",
       "  <thead>\n",
       "    <tr style=\"text-align: right;\">\n",
       "      <th></th>\n",
       "      <th>Predicted Negative</th>\n",
       "      <th>Predicted Positive</th>\n",
       "    </tr>\n",
       "  </thead>\n",
       "  <tbody>\n",
       "    <tr>\n",
       "      <th>Actual Negative</th>\n",
       "      <td>2076</td>\n",
       "      <td>408</td>\n",
       "    </tr>\n",
       "    <tr>\n",
       "      <th>Actual Positive</th>\n",
       "      <td>55</td>\n",
       "      <td>88</td>\n",
       "    </tr>\n",
       "  </tbody>\n",
       "</table>\n",
       "</div>"
      ],
      "text/plain": [
       "                 Predicted Negative  Predicted Positive\n",
       "Actual Negative                2076                 408\n",
       "Actual Positive                  55                  88"
      ]
     },
     "execution_count": 58,
     "metadata": {},
     "output_type": "execute_result"
    }
   ],
   "source": [
    "ada_cm = ada_df.apply(confusion_metrics, axis=1)['confusion_metric'].value_counts().sort_index()\n",
    "ada_cm_df = pd.DataFrame({'Predicted Negative': [ada_cm[2], ada_cm[0]],\n",
    "                          'Predicted Positive': [ada_cm[1], ada_cm[3]]},\n",
    "                         index=['Actual Negative', 'Actual Positive'])\n",
    "ada_cm_df"
   ]
  },
  {
   "cell_type": "code",
   "execution_count": 59,
   "metadata": {},
   "outputs": [
    {
     "data": {
      "text/html": [
       "<div>\n",
       "<style scoped>\n",
       "    .dataframe tbody tr th:only-of-type {\n",
       "        vertical-align: middle;\n",
       "    }\n",
       "\n",
       "    .dataframe tbody tr th {\n",
       "        vertical-align: top;\n",
       "    }\n",
       "\n",
       "    .dataframe thead th {\n",
       "        text-align: right;\n",
       "    }\n",
       "</style>\n",
       "<table border=\"1\" class=\"dataframe\">\n",
       "  <thead>\n",
       "    <tr style=\"text-align: right;\">\n",
       "      <th></th>\n",
       "      <th>Metrics</th>\n",
       "    </tr>\n",
       "  </thead>\n",
       "  <tbody>\n",
       "    <tr>\n",
       "      <th>Accuracy</th>\n",
       "      <td>0.823753</td>\n",
       "    </tr>\n",
       "    <tr>\n",
       "      <th>Misclassifaction Rate</th>\n",
       "      <td>0.176247</td>\n",
       "    </tr>\n",
       "    <tr>\n",
       "      <th>Sensitivity/Recall</th>\n",
       "      <td>0.615385</td>\n",
       "    </tr>\n",
       "    <tr>\n",
       "      <th>Specificity</th>\n",
       "      <td>0.835749</td>\n",
       "    </tr>\n",
       "    <tr>\n",
       "      <th>Precision</th>\n",
       "      <td>0.177419</td>\n",
       "    </tr>\n",
       "  </tbody>\n",
       "</table>\n",
       "</div>"
      ],
      "text/plain": [
       "                        Metrics\n",
       "Accuracy               0.823753\n",
       "Misclassifaction Rate  0.176247\n",
       "Sensitivity/Recall     0.615385\n",
       "Specificity            0.835749\n",
       "Precision              0.177419"
      ]
     },
     "execution_count": 59,
     "metadata": {},
     "output_type": "execute_result"
    }
   ],
   "source": [
    "get_metrics(ada_cm_df)"
   ]
  },
  {
   "cell_type": "code",
   "execution_count": 75,
   "metadata": {},
   "outputs": [
    {
     "data": {
      "text/html": [
       "<div>\n",
       "<style scoped>\n",
       "    .dataframe tbody tr th:only-of-type {\n",
       "        vertical-align: middle;\n",
       "    }\n",
       "\n",
       "    .dataframe tbody tr th {\n",
       "        vertical-align: top;\n",
       "    }\n",
       "\n",
       "    .dataframe thead th {\n",
       "        text-align: right;\n",
       "    }\n",
       "</style>\n",
       "<table border=\"1\" class=\"dataframe\">\n",
       "  <thead>\n",
       "    <tr style=\"text-align: right;\">\n",
       "      <th></th>\n",
       "      <th>Predicted Negative</th>\n",
       "      <th>Predicted Positive</th>\n",
       "    </tr>\n",
       "  </thead>\n",
       "  <tbody>\n",
       "    <tr>\n",
       "      <th>Actual Negative</th>\n",
       "      <td>1740</td>\n",
       "      <td>744</td>\n",
       "    </tr>\n",
       "    <tr>\n",
       "      <th>Actual Positive</th>\n",
       "      <td>33</td>\n",
       "      <td>110</td>\n",
       "    </tr>\n",
       "  </tbody>\n",
       "</table>\n",
       "</div>"
      ],
      "text/plain": [
       "                 Predicted Negative  Predicted Positive\n",
       "Actual Negative                1740                 744\n",
       "Actual Positive                  33                 110"
      ]
     },
     "execution_count": 75,
     "metadata": {},
     "output_type": "execute_result"
    }
   ],
   "source": [
    "svc_cm = svc_df.apply(confusion_metrics, axis=1)['confusion_metric'].value_counts().sort_index()\n",
    "svc_cm_df = pd.DataFrame({'Predicted Negative': [svc_cm[2], svc_cm[0]],\n",
    "                          'Predicted Positive': [svc_cm[1], svc_cm[3]]},\n",
    "                         index=['Actual Negative', 'Actual Positive'])\n",
    "svc_cm_df"
   ]
  },
  {
   "cell_type": "code",
   "execution_count": 76,
   "metadata": {},
   "outputs": [
    {
     "data": {
      "text/html": [
       "<div>\n",
       "<style scoped>\n",
       "    .dataframe tbody tr th:only-of-type {\n",
       "        vertical-align: middle;\n",
       "    }\n",
       "\n",
       "    .dataframe tbody tr th {\n",
       "        vertical-align: top;\n",
       "    }\n",
       "\n",
       "    .dataframe thead th {\n",
       "        text-align: right;\n",
       "    }\n",
       "</style>\n",
       "<table border=\"1\" class=\"dataframe\">\n",
       "  <thead>\n",
       "    <tr style=\"text-align: right;\">\n",
       "      <th></th>\n",
       "      <th>Metrics</th>\n",
       "    </tr>\n",
       "  </thead>\n",
       "  <tbody>\n",
       "    <tr>\n",
       "      <th>Accuracy</th>\n",
       "      <td>0.704225</td>\n",
       "    </tr>\n",
       "    <tr>\n",
       "      <th>Misclassifaction Rate</th>\n",
       "      <td>0.295775</td>\n",
       "    </tr>\n",
       "    <tr>\n",
       "      <th>Sensitivity/Recall</th>\n",
       "      <td>0.769231</td>\n",
       "    </tr>\n",
       "    <tr>\n",
       "      <th>Specificity</th>\n",
       "      <td>0.700483</td>\n",
       "    </tr>\n",
       "    <tr>\n",
       "      <th>Precision</th>\n",
       "      <td>0.128806</td>\n",
       "    </tr>\n",
       "  </tbody>\n",
       "</table>\n",
       "</div>"
      ],
      "text/plain": [
       "                        Metrics\n",
       "Accuracy               0.704225\n",
       "Misclassifaction Rate  0.295775\n",
       "Sensitivity/Recall     0.769231\n",
       "Specificity            0.700483\n",
       "Precision              0.128806"
      ]
     },
     "execution_count": 76,
     "metadata": {},
     "output_type": "execute_result"
    }
   ],
   "source": [
    "get_metrics(svc_cm_df)"
   ]
  },
  {
   "cell_type": "markdown",
   "metadata": {},
   "source": [
    "## ROC Curve"
   ]
  },
  {
   "cell_type": "code",
   "execution_count": 80,
   "metadata": {},
   "outputs": [
    {
     "data": {
      "image/png": "[encoded data removed]",
      "text/plain": [
       "<Figure size 1080x720 with 1 Axes>"
      ]
     },
     "metadata": {},
     "output_type": "display_data"
    }
   ],
   "source": [
    "rf_fpr, rf_tpr, _ = roc_curve(rf_df['WnvPresent'], rf_df['predicted_proba'])\n",
    "rf_roc_auc = auc(rf_fpr, rf_tpr)\n",
    "logreg_fpr, logreg_tpr, _ = roc_curve(logreg_df['WnvPresent'], logreg_df['predicted_proba'])\n",
    "logreg_roc_auc = auc(logreg_fpr, logreg_tpr)\n",
    "xgm_fpr, xgm_tpr, _ = roc_curve(xgm_df['WnvPresent'], xgm_df['predicted_proba'])\n",
    "xgm_roc_auc = auc(xgm_fpr, xgm_tpr)\n",
    "ada_fpr, ada_tpr, _ = roc_curve(ada_df['WnvPresent'], ada_df['predicted_proba'])\n",
    "ada_roc_auc = auc(ada_fpr, ada_tpr)\n",
    "svc_fpr, svc_tpr, _ = roc_curve(svc_df['WnvPresent'], svc_df['predicted_proba'])\n",
    "svc_roc_auc = auc(svc_fpr, svc_tpr)\n",
    "# Plot\n",
    "fig = plt.figure(figsize=(15,10))\n",
    "line_width = 2\n",
    "\n",
    "plt.plot(rf_fpr, rf_tpr, lw=line_width, label=f\"Random Forest {round(rf_roc_auc, 3)}\")\n",
    "plt.plot(logreg_fpr, logreg_tpr, lw=line_width, label=f\"Logistic Regression {round(logreg_roc_auc, 3)}\")\n",
    "plt.plot(xgm_fpr, xgm_tpr, lw=8, label=f\"XGBoost {round(xgm_roc_auc, 3)}\")\n",
    "plt.plot(ada_fpr, ada_tpr, lw=line_width, label=f\"AdaBoost {round(ada_roc_auc, 3)}\")\n",
    "plt.plot(svc_fpr, svc_tpr, lw=line_width, label=f\"SVC {round(svc_roc_auc, 3)}\")\n",
    "\n",
    "plt.plot([0,1], [0,1], lw=line_width, linestyle='--', color='r')\n",
    "\n",
    "plt.xlim([0.0, 1.0])\n",
    "plt.ylim([0.0, 1.05])\n",
    "plt.xlabel('False Positive Rate', fontsize=20)\n",
    "plt.ylabel('True Positive Rate', fontsize=20)\n",
    "plt.title('ROC', fontsize=30)\n",
    "plt.legend(loc=\"lower right\")\n",
    "plt.grid(True)"
   ]
  },
  {
   "cell_type": "code",
   "execution_count": 65,
   "metadata": {},
   "outputs": [
    {
     "data": {
      "text/plain": [
       "count    14942.000000\n",
       "mean         9.189239\n",
       "std          5.182950\n",
       "min          0.000000\n",
       "25%          6.000000\n",
       "50%         10.000000\n",
       "75%         13.000000\n",
       "max         19.000000\n",
       "Name: Cool_s1, dtype: float64"
      ]
     },
     "execution_count": 65,
     "metadata": {},
     "output_type": "execute_result"
    }
   ],
   "source": [
    "X_resample['Cool_s1'].describe()"
   ]
  },
  {
   "cell_type": "code",
   "execution_count": null,
   "metadata": {},
   "outputs": [],
   "source": []
  }
 ],
 "metadata": {
  "kernelspec": {
   "display_name": "Python 3",
   "language": "python",
   "name": "python3"
  },
  "language_info": {
   "codemirror_mode": {
    "name": "ipython",
    "version": 3
   },
   "file_extension": ".py",
   "mimetype": "text/x-python",
   "name": "python",
   "nbconvert_exporter": "python",
   "pygments_lexer": "ipython3",
   "version": "3.6.5"
  }
 },
 "nbformat": 4,
 "nbformat_minor": 2
}
